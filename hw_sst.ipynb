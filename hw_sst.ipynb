{
 "cells": [
  {
   "cell_type": "markdown",
   "metadata": {},
   "source": [
    "# Homework and bake-off: Stanford Sentiment Treebank"
   ]
  },
  {
   "cell_type": "code",
   "execution_count": 3,
   "metadata": {},
   "outputs": [],
   "source": [
    "__author__ = \"Christopher Potts\"\n",
    "__version__ = \"CS224u, Stanford, Spring 2020\""
   ]
  },
  {
   "cell_type": "markdown",
   "metadata": {},
   "source": [
    "## Contents\n",
    "\n",
    "1. [Overview](#Overview)\n",
    "1. [Methodological note](#Methodological-note)\n",
    "1. [Set-up](#Set-up)\n",
    "1. [A softmax baseline](#A-softmax-baseline)\n",
    "1. [RNNClassifier wrapper](#RNNClassifier-wrapper)\n",
    "1. [Error analysis](#Error-analysis)\n",
    "1. [Homework questions](#Homework-questions)\n",
    "  1. [Reproducing Socher et al.'s NaiveBayes baselines [2 points]](#Reproducing-Socher-et-al.'s-NaiveBayes-baselines-[2-points])\n",
    "  1. [Sentiment words alone [2 points]](#Sentiment-words-alone-[2-points])\n",
    "  1. [A more powerful vector-summing baseline [2 points]](#A-more-powerful-vector-summing-baseline-[2-points])\n",
    "  1. [Your original system [3 points]](#Your-original-system-[3-points])\n",
    "1. [Bake-off [1 point]](#Bake-off-[1-point])"
   ]
  },
  {
   "cell_type": "markdown",
   "metadata": {},
   "source": [
    "## Overview\n",
    "\n",
    "This homework and associated bake-off are devoted to the Stanford Sentiment Treebank (SST). The homework questions ask you to implement some baseline systems, and the bake-off challenge is to define a system that does extremely well at the SST task.\n",
    "\n",
    "We'll focus on the ternary task as defined by `sst.ternary_class_func`.\n",
    "\n",
    "The SST test set will be used for the bake-off evaluation. This dataset is already publicly distributed, so we are counting on people not to cheat by develping their models on the test set. You must do all your development without using the test set at all, and then evaluate exactly once on the test set and turn in the results, with no further system tuning or additional runs. __Much of the scientific integrity of our field depends on people adhering to this honor code__. \n",
    "\n",
    "Our only additional restriction is that __you cannot make any use of the subtree labels__. This corresponds to the 'Root' condition in the paper. As we discussed in class, the subtree labels are a really interesting feature of SST, but bringing them in results in a substantially different learning problem.\n",
    "\n",
    "One of our goals for this homework and bake-off is to encourage you to engage in __the basic development cycle for supervised models__, in which you\n",
    "\n",
    "1. Write a new feature function. We recommend starting with something simple.\n",
    "1. Use `sst.experiment` to evaluate your new feature function, with at least `fit_softmax_classifier`.\n",
    "1. If you have time, compare your feature function with `unigrams_phi` using `sst.compare_models` or `sst.compare_models_mcnemar`. (For discussion, see [this notebook section](sst_02_hand_built_features.ipynb#Statistical-comparison-of-classifier-models).)\n",
    "1. Return to step 1, or stop the cycle and conduct a more rigorous evaluation with hyperparameter tuning and assessment on the `dev` set.\n",
    "\n",
    "[Error analysis](#Error-analysis) is one of the most important methods for steadily improving a system, as it facilitates a kind of human-powered hill-climbing on your ultimate objective. Often, it takes a careful human analyst just a few examples to spot a major pattern that can lead to a beneficial change to the feature representations."
   ]
  },
  {
   "cell_type": "markdown",
   "metadata": {},
   "source": [
    "## Methodological note\n",
    "\n",
    "You don't have to use the experimental framework defined below (based on `sst`). However, if you don't use `sst.experiment` as below, then make sure you're training only on `train`, evaluating on `dev`, and that you report with \n",
    "\n",
    "```\n",
    "from sklearn.metrics import classification_report\n",
    "classification_report(y_dev, predictions)\n",
    "```\n",
    "where `y_dev = [y for tree, y in sst.dev_reader(class_func=sst.ternary_class_func)]`. We'll focus on the value at `macro avg` under `f1-score` in these reports."
   ]
  },
  {
   "cell_type": "markdown",
   "metadata": {},
   "source": [
    "## Set-up\n",
    "\n",
    "See [the first notebook in this unit](sst_01_overview.ipynb#Set-up) for set-up instructions."
   ]
  },
  {
   "cell_type": "code",
   "execution_count": 2,
   "metadata": {},
   "outputs": [],
   "source": [
    "from collections import Counter\n",
    "from nltk.tree import Tree\n",
    "import numpy as np\n",
    "import os\n",
    "import pandas as pd\n",
    "import random\n",
    "from sklearn.linear_model import LogisticRegression\n",
    "import sst\n",
    "import torch.nn as nn\n",
    "from torch_rnn_classifier import TorchRNNClassifier\n",
    "from torch_tree_nn import TorchTreeNN\n",
    "import utils"
   ]
  },
  {
   "cell_type": "code",
   "execution_count": 3,
   "metadata": {},
   "outputs": [],
   "source": [
    "SST_HOME = os.path.join('data', 'trees')"
   ]
  },
  {
   "cell_type": "markdown",
   "metadata": {},
   "source": [
    "## A softmax baseline\n",
    "\n",
    "This example is here mainly as a reminder of how to use our experimental framework with linear models."
   ]
  },
  {
   "cell_type": "code",
   "execution_count": 87,
   "metadata": {},
   "outputs": [],
   "source": [
    "def unigrams_phi(tree):\n",
    "    \"\"\"The basis for a unigrams feature function.\n",
    "    \n",
    "    Parameters\n",
    "    ----------\n",
    "    tree : nltk.tree\n",
    "        The tree to represent.\n",
    "    \n",
    "    Returns\n",
    "    -------    \n",
    "    Counter\n",
    "        A map from strings to their counts in `tree`. (Counter maps a \n",
    "        list to a dict of counts of the elements in that list.)\n",
    "    \n",
    "    \"\"\"\n",
    "    result = Counter(tree.leaves())\n",
    "    \n",
    "    return result"
   ]
  },
  {
   "cell_type": "markdown",
   "metadata": {},
   "source": [
    "Thin wrapper around `LogisticRegression` for the sake of `sst.experiment`:"
   ]
  },
  {
   "cell_type": "code",
   "execution_count": 88,
   "metadata": {},
   "outputs": [],
   "source": [
    "def fit_softmax_classifier(X, y):        \n",
    "    mod = LogisticRegression(\n",
    "        fit_intercept=True,\n",
    "        solver='liblinear',\n",
    "        multi_class='ovr')\n",
    "    mod.fit(X, y)\n",
    "    return mod"
   ]
  },
  {
   "cell_type": "markdown",
   "metadata": {},
   "source": [
    "The experimental run with some notes:"
   ]
  },
  {
   "cell_type": "code",
   "execution_count": 89,
   "metadata": {},
   "outputs": [
    {
     "name": "stdout",
     "output_type": "stream",
     "text": [
      "              precision    recall  f1-score   support\n",
      "\n",
      "    negative      0.628     0.689     0.657       428\n",
      "     neutral      0.343     0.153     0.211       229\n",
      "    positive      0.629     0.750     0.684       444\n",
      "\n",
      "    accuracy                          0.602      1101\n",
      "   macro avg      0.533     0.531     0.518      1101\n",
      "weighted avg      0.569     0.602     0.575      1101\n",
      "\n"
     ]
    }
   ],
   "source": [
    "softmax_experiment = sst.experiment(\n",
    "    SST_HOME,\n",
    "    unigrams_phi,                      # Free to write your own!\n",
    "    fit_softmax_classifier,            # Free to write your own!\n",
    "    train_reader=sst.train_reader,     # Fixed by the competition.\n",
    "    assess_reader=sst.dev_reader,      # Fixed until the bake-off.\n",
    "    class_func=sst.ternary_class_func) # Fixed by the bake-off rules."
   ]
  },
  {
   "cell_type": "markdown",
   "metadata": {},
   "source": [
    "`softmax_experiment` contains a lot of information that you can use for analysis; see [this section below](#Error-analysis) for starter code."
   ]
  },
  {
   "cell_type": "markdown",
   "metadata": {},
   "source": [
    "## RNNClassifier wrapper\n",
    "\n",
    "This section illustrates how to use `sst.experiment` with RNN and TreeNN models."
   ]
  },
  {
   "cell_type": "markdown",
   "metadata": {},
   "source": [
    "To featurize examples for an RNN, we just get the words in order, letting the model take care of mapping them into an embedding space."
   ]
  },
  {
   "cell_type": "code",
   "execution_count": 7,
   "metadata": {},
   "outputs": [],
   "source": [
    "def rnn_phi(tree):\n",
    "    return tree.leaves()    "
   ]
  },
  {
   "cell_type": "markdown",
   "metadata": {},
   "source": [
    "The model wrapper gets the vocabulary using `sst.get_vocab`. If you want to use pretrained word representations in here, then you can have `fit_rnn_classifier` build that space too; see [this notebook section for details](sst_03_neural_networks.ipynb#Pretrained-embeddings)."
   ]
  },
  {
   "cell_type": "code",
   "execution_count": 8,
   "metadata": {},
   "outputs": [],
   "source": [
    "def fit_rnn_classifier(X, y):    \n",
    "    sst_glove_vocab = utils.get_vocab(X, n_words=10000)\n",
    "    mod = TorchRNNClassifier(\n",
    "        sst_glove_vocab, \n",
    "        eta=0.05,\n",
    "        embedding=None,\n",
    "        batch_size=1000,\n",
    "        embed_dim=50,\n",
    "        hidden_dim=50,\n",
    "        max_iter=50,\n",
    "        l2_strength=0.001,\n",
    "        bidirectional=True,\n",
    "        hidden_activation=nn.ReLU())\n",
    "    mod.fit(X, y)\n",
    "    return mod"
   ]
  },
  {
   "cell_type": "code",
   "execution_count": 9,
   "metadata": {},
   "outputs": [
    {
     "name": "stdout",
     "output_type": "stream",
     "text": [
      "['!', '#', '$', '$UNK', '&', \"'\", \"''\", \"'50s\", \"'60s\", \"'70s\", \"'80s\", \"'d\", \"'em\", \"'ll\", \"'m\", \"'re\", \"'s\", \"'ve\", ',', '-', '--', '-LRB-', '-RRB-', '.', '...', '1', '1.2', '1.8', '10', '10-course', '10-year-old', '100', '100-minute', '101', '102-minute', '11', '110', '12-year-old', '12th', '13', '14-year-old', '15', '163', '170', '1790', '1915', '1920', '1933', '1940s', '1950s', '1952', '1958', '1960', '1960s', '1970s', '1975', '1979', '1984', '1990', '1994', '1999', '19th-century', '1\\\\/2', '2', '20', '2000', '2002', '20th', '21\\\\/2', '21st', '22', '25', '26-year-old', '270', '2\\\\/3', '3', '30', '300', '3000', '3D', '4', '40', '451', '48', '4Ever', '4ever', '5', '50', '50-year', '50-year-old', '51', '6', '6-year-old', '60', '65-year-old', '70s', '78', '8', '80', '83', '84', '86', '88-minute', '9', '9-11', '90', '90-minute', '95', '9\\\\/11', ':', ';', '?', 'A', 'A-list', 'A.', 'ABC', 'AIDS', 'Aaliyah', 'Abandon', 'Abel', 'Able', 'About', 'Absolutely', 'Absorbing', 'Academy', 'According', 'Action', 'Actress', 'Adam', 'Adams', 'Adaptation', 'Adrian', 'Adults', 'Adventures', 'Aesop', 'Affectionately', 'Affirms', 'Affleck', 'Afghan', 'Afghani', 'Africa', 'African', 'African-Americans', 'After', 'Again', 'Age', 'Ah', 'Ahola', 'Alabama', 'Aladdin', 'Alagna', 'Alain', 'Alan', 'Alas', 'Alexander', 'Alexandre', 'Alfonso', 'Alfred', 'Ali', 'Alice', 'All', 'Allen', 'Allows', 'Ally', 'Almodovar', 'Almost', 'Alone', 'Altar', 'Alternately', 'Although', 'Altman', 'Am', 'Amari', 'Amaro', 'Amazing', 'Amazingly', 'Ambrose', 'America', 'American', 'American-Russian', 'American-style', 'Americans', 'Amid', 'Amir', 'Amy', 'Amélie', 'An', 'Ana', 'Analyze', 'And', 'Anderson', 'André', 'Anemic', 'Angel', 'Angela', 'Angelina', 'Angels', 'Animal', 'Aniston', 'Anna', 'Anne', 'Anne-Sophie', 'Another', 'Anthony', 'Antonia', 'Antonio', 'Antwone', 'Any', 'Anyone', 'Apart', 'Apollo', 'Apparently', 'Apted', 'Ararat', 'Are', 'Argentine', 'Argento', 'Arguably', 'Armageddon', 'Armed', 'Arnie', 'Arnold', 'Art', 'Arteta', 'Arthur', 'As', 'Ash', 'Asian', 'Aside', 'Ask', 'Asks', 'Assassin', 'Assayas', 'Assembly', 'Assured', 'Astonishing', 'Astonishingly', 'At', 'Atlantic', 'Attal', 'Attraction', 'Audiard', 'August', 'Augustine', 'Austen', 'Austin', 'Australia', 'Australian', 'Auteil', 'Auteuil', 'Auto', 'Avary', 'Average', 'Award', 'Away', 'Ayurveda', 'B', 'B-movie', 'Back', 'Bacon', 'Bad', 'Bai', 'Bailly', 'Baker', 'Bale', 'Ballistic', 'Ballot', 'Band', 'Banderas', 'Baran', 'Barbershop', 'Bard', 'Barely', 'Barney', 'Barrels', 'Barrie', 'Barris', 'Barry', 'Barrymore', 'Bartleby', 'Bartlett', 'Based', 'Be', 'Beach', 'Bean', 'Beard', 'Bears', 'Beast', 'Beat', 'Beautiful', 'Beautifully', 'Beauty', 'Because', 'Becomes', 'Been', 'Before', 'Beginners', 'Begins', 'Behan', 'Behind', 'Beijing', 'Being', 'Belgium', 'Below', 'Ben', 'Beneath', 'Benigni', 'Benjamins', 'Beresford', 'Bergman', 'Berkeley', 'Berling', 'Bernal', 'Bernard', 'Berry', 'Besco', 'Besson', 'Best', 'Bettany', 'Bette', 'Better', 'Betty', 'Between', 'Beyond', 'Bible', 'Bicentennial', 'Bielinsky', 'Big', 'Bigelow', 'Bill', 'Billy', 'Binoche', 'Birds', 'Birot', 'Birthday', 'Bisset', 'Black', 'Blade', 'Blair', 'Blanchett', 'Blessed', 'Blood', 'Bloody', 'Blue', 'Boasts', 'Bob', 'Body', 'Bogdanovich', 'Bolero', 'Boll', 'Bollywood', 'Bolstered', 'Bond', 'Bonds', 'Book', 'Boomers', 'Borg', 'Borstal', 'Boston', 'Both', 'Bourne', 'Bow', 'Bowling', 'Boy', 'Boyd', 'Boys', 'Brady', 'Branagh', 'Bravo', 'Bray', 'Bread', 'Break', 'Breaking', 'Brecht', 'Brendan', 'Brian', 'Bride', 'Bridge', 'Bridget', 'Bring', 'Brings', 'Brit', 'British', 'Britney', 'Brits', 'Broadway', 'Broken', 'Brooklyn', 'Brooks', 'Broomfield', 'Brooms', 'Bros.', 'Brosnan', 'Brother', 'Brothers', 'Brown', 'Bruce', 'Bruckheimer', 'Brussels', 'Bryan', 'Bucks', 'Bueller', 'Bullock', 'Burger', 'Burkina', 'Burning', 'Burns', 'Burr', 'Burstein', 'Busby', 'But', 'Buy', 'Buñuel', 'By', 'Byatt', 'Byler', 'Béart', 'Büttner', 'C.', 'C.H.O.', 'CGI', 'CHASES', 'CIA', 'CQ', 'Ca', 'Cacoyannis', 'Caddyshack', 'Caesar', 'Cage', 'Cagney', 'Caine', 'Cal', 'Call', 'Callar', 'Calvin', 'Cam', 'Campanella', 'Can', 'Canada', 'Canadian', 'Cannes', 'Cantet', 'Capra', 'Captivates', 'Captures', 'Care', 'Carl', 'Carlin', 'Carmen', 'Carmichael', 'Carol', 'Carpenter', 'Carrey', 'Carrying', 'Carter', 'Caruso', 'Carvey', 'Cary', 'Case', 'Cassavetes', 'Cassel', 'Castro', 'Cat', 'Catch', 'Catherine', 'Catholic', 'Cattaneo', 'Cavaradossi', 'Caviezel', 'Cedar', 'Century', 'Certainly', 'Chabrol', 'Chai', 'Chaiken', 'Chamber', 'Chan', 'Chances', 'Changing', 'Channel-style', 'Chaplin', 'Charade', 'Charles', 'Charlie', 'Charlotte', 'Charming', 'Chateau', 'Chekhov', 'Chelsea', 'Chen', 'Cherish', 'Cherry', 'Chesterton', 'Chicago', 'Chicago-based', 'Chick', 'Children', 'Chill', 'Chilling', 'China', 'Chinese', 'Cho', 'Chomp', 'Choquart', 'Chou', 'Chou-Chou', 'Chouraqui', 'Chris', 'Christian', 'Christianity', 'Christmas', 'Christopher', 'Chronicles', 'Chuck', 'Château', 'Cinderella', 'Cineasts', 'Cinema', 'Cinematic', 'Circuit', 'Circus', 'City', 'Clancy', 'Clare', 'Clarissa', 'Claude', 'Clause', 'Clayburgh', 'Clearasil', 'Cletis', 'Clever', 'Clint', 'Clockstoppers', 'Clooney', 'Close', 'Closely', 'Club', 'Coast', 'Cockettes', 'Coen', 'Cold', 'Collapses', 'Collateral', 'Collinwood', 'Colorful', 'Columbine', 'Columbus', 'Com', 'Combine', 'Combines', 'Comedian', 'Comedy', 'Comes', 'Company', 'Completely', 'Conan', 'Conduct', 'Confessions', 'Consider', 'Constantly', 'Contact', 'Contains', 'Contrived', 'Conversations', 'Cool', 'Cooper', 'Coppola', 'Corcuera', 'Corpus', 'Costner', 'Could', 'Count', 'Country', 'County', 'Cox', 'Craig', 'Crane', 'Craven', 'Crazy', 'Creek', 'Cremaster', 'Crimen', 'Crimes', 'Cristo', 'Crocodile', 'Crossroads', 'Crudup', 'Crush', 'Crystal', 'Cuaron', 'Cuban', 'Cube', 'Culkin', 'Curves', 'Cusack', 'Cut', 'Cynics', 'D.W.', 'DOA', 'DV', 'DVD', 'Dahmer', 'Dalloway', 'Damage', 'Damme', 'Damned', 'Damon', 'Dana', 'Danang', 'Dance', 'Dangerous', 'Dani', 'Daniel', 'Danis', 'Danny', 'Dark', 'Darkly', 'Darling', 'Dass', 'Daughter', 'David', 'Davies', 'Davis', 'Dawson', 'Day', 'Day-Lewis', 'Days', 'De', 'DeNiro', 'DePalma', 'DeVito', 'Dead', 'Deadly', 'Dean', 'Death', 'Decasia', 'Deeds', 'Deep', 'Deepa', 'Defies', 'Definitely', 'Del', 'Deliberately', 'Deliciously', 'Delivers', 'Demme', 'Demons', 'Demonstrates', 'Denis', 'Denlopp', 'Denmark', 'Dense', 'Denzel', 'Derek', 'Derrida', 'Deserves', 'Despite', 'Deuces', 'Devils', 'Devos', 'Dey', 'Diane', 'Diary', 'Diaz', 'Dick', 'Dickens', 'Dickensian', 'Did', 'Die', 'Diesel', 'Diggs', 'Directed', 'Directing', 'Director', 'Directors', 'Dirty', 'Disguise', 'Disney', 'Divine', 'Do', 'Does', 'Dog', 'Dogma', 'Dogs', 'Dogtown', 'Don', 'Dong', 'Donovan', 'Doo', 'Doorstep', 'Dot', 'Doug', 'Douglas', 'Dover', 'Down', 'Doyle', 'Dr.', 'Dragon', 'Dragonfly', 'Dramas', 'Dream', 'Dreams', 'Drew', 'Drug', 'Drumline', 'Duke', 'Dull', 'Dumas', 'Dummies', 'Dunst', 'Dustin', 'Duvall', 'Dylan', 'E', 'E.T.', 'ESPN', 'Each', 'Earnest', 'Earnhart', 'Earth', 'Easily', 'East', 'East-vs', 'Eastern', 'Eastwood', 'Ecks', 'Ed', 'Eddie', 'Eddy', 'Edward', 'Efficient', 'Efteriades', 'Egoyan', 'Eight', 'Eileen', 'Eisenstein', 'El', 'Election', 'Elegant', 'Elegantly', 'Elfriede', 'Elizabeth', 'Ellen', 'Elling', 'Elvis', 'Emilie', 'Emperor', 'Empire', 'Ending', 'Ends', 'England', 'English', 'English-language', 'Enigma', 'Enjoyably', 'Enough', 'Entertaining', 'Entertainment', 'Enticing', 'Entirely', 'Epps', 'Equilibrium', 'Eric', 'Errol', 'Especially', 'Essentially', 'Esther', 'Europe', 'European', 'Evans', 'Evelyn', 'Even', 'Ever', 'Everlasting', 'Everlyn', 'Every', 'Everyone', 'Everything', 'Evil', 'Evokes', 'Exactly', 'Except', 'Exciting', 'Executed', 'Exhilarating', 'Exploits', 'Extraordinary', 'Extreme', 'Extremely', 'Exudes', 'Eyre', 'Fails', 'Fairies', 'Familiar', 'Family', 'Famuyiwa', 'Fans', 'Fantasma', 'Far', 'Farrelly', 'Faso', 'Fast', 'Fat', 'Fatal', 'Fatale', 'Father', 'Favor', 'Fear', 'FearDotCom', 'Feardotcom', 'Fears', 'Feathers', 'Features', 'Feels', 'Fellowship', 'Fence', 'Ferrara', 'Ferrera', 'Ferris', 'Fessenden', 'Festival', 'Few', 'Fiennes', 'Fierce', 'Filled', 'Film', 'Filmmaker', 'Filmmakers', 'Films', 'Finally', 'Finch', 'Fincher', 'Fingered', 'Fire', 'First', 'First-time', 'Fisher', 'Fisk', 'Flamboyant', 'Flawed', 'Floria', 'Floyd', 'Fluffy', 'Focus', 'Fontaine', 'For', 'Ford', 'Forget', 'Formula', 'Forster', 'Fortunately', 'Foster', 'Four', 'Frailty', 'France', 'Franco', 'Frank', 'Franklin', 'Frankly', 'Franz', 'Fraser', 'Freaks', 'Fred', 'Freddie', 'Freddy', 'Freedom', 'Freeman', 'Frei', 'French', 'French-produced', 'Fresh', 'Fresnadillo', 'Freud', 'Freundlich', 'Frida', 'Friday', 'Friel', 'Friend', 'Frodo', 'From', 'Frontal', 'Fubar', 'Fuhrman', 'Fulfills', 'Full', 'Functions', 'Fundamentals', 'Funeral', 'Funny', 'Future', 'Gaghan', 'Gai', 'Gallo', 'Games', 'Gangs', 'Gangster', 'Gantz', 'Garcia', 'García', 'Gary', 'Gauge', 'Gaunt', 'Gayton', 'Gaza', 'Gaï', 'Gedeck', 'General', 'Generation', 'Generations', 'Generic', 'Gently', 'George', 'Gere', 'German', 'Get', 'Gets', 'Gheorghiu', 'Ghetto', 'Ghost', 'Gianni', 'Gibney', 'Gibson', 'Gidget', 'Giggling', 'Giles', 'Gilliam', 'Girl', 'Girls', 'Give', 'Given', 'Gives', 'Glass', 'Glitter', 'Glover', 'Go', 'God', 'Godard', 'Goddammit', 'Godfrey', 'Goes', 'Going', 'Goldbacher', 'Golden', 'Goldmember', 'Gondry', 'Gone', 'Gong', 'Good', 'GoodFellas', 'Goodall', 'Goodfellas', 'Gooding', 'Gorgeous', 'Gosford', 'Gosling', 'Got', 'Goyer', 'Grabowsky', 'Grace', 'Graham', 'Granger', 'Grant', 'Great', 'Greek', 'Green', 'Greene', 'Greengrass', 'Greenlight', 'Grenier', 'Grey', 'Griffith', 'Griffiths', 'Groen', 'Group', 'Guy', 'Guys', 'Gyllenhaal', 'H', 'H.G.', 'HIV\\\\/AIDS', 'Hal', 'Half', 'Halfway', 'Hall', 'Hallmark', 'Halloween', 'Handsome', 'Haneke', 'Hanks', 'Hanna-Barbera', 'Hannibal', 'Hanussen', 'Happily', 'Happiness', 'Happy', 'Harbor', 'Harbour', 'Hard', 'Hardly', 'Harmon', 'Harris', 'Harrison', 'Harry', 'Hart', 'Hartley', 'Harvard', 'Harvey', 'Has', 'Hashiguchi', 'Hate', 'Hatosy', 'Have', 'Hawaiian', 'Hawk', 'Hawke', 'Hawn', 'Hayek', 'Haynes', 'He', 'Hearst', 'Heart', 'Heartwarming', 'Heaven', 'Heidegger', 'Helga', 'Hell', 'Heller', 'Helps', 'Henry', 'Her', 'Here', 'Herzog', 'Hewitt', 'Hey', 'Hibiscus', 'Hickenlooper', 'High', 'Highly', 'Hill', 'Hip-hop', 'His', 'Hitchcock', 'Hitchcockian', 'Hitler', 'Hjelje', 'Hoffman', 'Holland', 'Holly', 'Hollywood', 'Holm', 'Holocaust', 'Holofcener', 'Home', 'Hong', 'Hopkins', 'Hospital', 'Hot', 'Hotel', 'Hour', 'Hours', 'House', 'How', 'Howard', 'However', 'Hubert', 'Hudlin', 'Hugely', 'Hugh', 'Human', 'Humorous', 'Hunter', 'Huppert', 'Hurley', 'Husband', 'Huston', 'I', 'II', 'III', 'IMAX', 'IQ', 'Ian', 'Iben', 'Ice', 'Ice-T', 'Ichi', 'Idemoto', 'Identity', 'If', 'Igby', 'Ignorant', 'Imagine', 'Imamura', 'Imax', 'Imitation', 'Imperfect', 'Importance', 'Impostor', 'In', 'Inc.', 'Indecent', 'Indeed', 'Indian', 'Indians', 'Informative', 'Inherently', 'Insomnia', 'Instead', 'Insurrection', 'Intacto', 'Intelligent', 'Interesting', 'Interview', 'Intriguing', 'Inuit', 'Invigorating', 'Invincible', 'Iosseliani', 'Iran', 'Iranian', 'Iranian-American', 'Ireland', 'Irish', 'Irwin', 'Is', 'Isabelle', 'Island', 'Israel', 'Israeli', 'It', 'Italian', 'Its', 'Ivan', 'Iwai', 'J', 'J.', 'J.R.R.', 'JFK', 'Jack', 'Jackass', 'Jackie', 'Jackson', 'Jacobson', 'Jacques', 'Jacquot', 'Jae-eun', 'Jagger', 'Jaglom', 'Jaglomized', 'James', 'Jane', 'Janice', 'Janklowicz-Mann', 'January', 'Japan', 'Japanese', 'Jarecki', 'Jason', 'Jay', 'Jean', 'Jean-Claud', 'Jeanette', 'Jeff', 'Jeffrey', 'Jelinek', 'Jennifer', 'Jeong', 'Jeong-Hyang', 'Jeremy', 'Jerry', 'Jersey', 'Jesse', 'Jessica', 'Jet', 'Jewish', 'Jews', 'Jia', 'Jiang', 'Jim', 'Jimmy', 'Jiri', 'Joan', 'Joe', 'Joel', 'John', 'Jolie', 'Jonah', 'Jonathan', 'Jones', 'Jonze', 'Jordan', 'Joseph', 'Josh', 'José', 'Jr.', 'Juan', 'Judd', 'Judging', 'Judith', 'Julia', 'Julianne', 'Julie', 'Juliette', 'Just', 'Justine', 'Juwanna', 'K-19', 'Kafka', 'Kahlo', 'Kahn', 'Kane', 'Kang', 'Kaos', 'Kapur', 'Karen', 'Kathy', 'Kaufman', 'Keener', 'Keenly', 'Kennedy', 'Kenneth', 'Kevin', 'Kid', 'Kidman', 'Kids', 'Kieran', 'Kieslowski', 'Killed', 'Killer', 'Killing', 'Kilmer', 'Kim', 'King', 'Kingsley', 'Kinnear', 'Kirshner', 'Kirsten', 'Kiss', 'Kissing', 'Kissinger', 'Klein', 'Kline', 'Knockaround', 'Know', 'Knows', 'Koepp', 'Komediant', 'Kong', 'Korea', 'Korean', 'Kosashvili', 'Koshashvili', 'Kosminsky', 'Koury', 'Kouyate', 'Krawczyk', 'Krige', 'Kubrick', 'Kumble', 'Kung', 'Kuras', 'Kurt', 'Kurys', 'Kwan', 'L.', 'L.A.', 'La', 'LaBute', 'LaPaglia', 'Laced', 'Lacking', 'Lacks', 'Lady', 'Lagaan', 'Laissez-passer', 'Lambs', 'Lampoon', 'Lan', 'Land', 'Lane', 'Lanes', 'Laramie', 'Larry', 'Larson', 'Last', 'Late', 'Lathan', 'Latin', 'Lau', 'Laurence', 'Lawrence', 'Lazy', 'Le', 'LeBlanc', 'Lead', 'League', 'Lear', 'Leave', 'Leaves', 'Lee', 'Legged', 'Leguizamo', 'Leigh', 'Leon', 'Leonard', 'Les', 'Less', 'Let', 'Letterman', 'Levy', 'Lewis', 'Li', 'Liar', 'Lieutenant', 'Life', 'Lifetime', 'Light', 'Light-years', 'Lightness', 'Like', 'Lil', 'Lilia', 'Lillard', 'Lilo', 'Lily', 'Liman', 'Limit', 'Lion', 'Liotta', 'Lips', 'Lisa', 'List', 'Lit', 'Little', 'Liu', 'Live', 'Lives', 'Liyan', 'Liza', 'Lizard', 'Lock', 'Lohman', 'Lola', 'Lolita', 'London', 'Lone', 'Long', 'Longest', 'Look', 'Lookin', 'Looking', 'Looks', 'Lopez', 'Lord', 'Lost', 'Loud', 'Louis', 'Love', 'Lovely', 'Low', 'Lucas', 'Lucia', 'Lucky', 'Lucy', 'Ludicrous', 'Luke', 'Lux', 'Lynch', 'Lyne', 'Lynne', 'M', 'M-16', 'M.', 'MIB', 'MTV', 'MacDonald', 'MacDowell', 'MacNaughton', 'Machine', 'Mad', 'Made', 'Madonna', 'Maelstrom', 'Magazine', 'Maggie', 'Magnolia', 'Maguire', 'Maid', 'Maids', 'Maintains', 'Majidi', 'Make', 'Makes', 'Malcolm', 'Malkovich', 'Mama', 'Mamet', 'Mamá', 'Man', 'Manages', 'Mandy', 'Manhattan', 'Mann', 'Many', 'Marcken', 'Margarita', 'Margolo', 'Marilyn', 'Marina', 'Mario', 'Mark', 'Marmite', 'Marquis', 'Marriage', 'Mars', 'Marshall', 'Martha', 'Martin', 'Mary', 'Mary-Louise', 'Maryam', 'Mask', 'Massoud', 'Master', 'Mastering', 'Masterpiece', 'Matrix', 'Mattei', 'Matthew', 'Max', 'May', 'Maybe', 'McBeal-style', 'McCulloch', 'McDowell', 'McGrath', 'McKay', 'McMullen', 'Me', 'Mean', 'Meandering', 'Meant', 'Meara', 'Measured', 'Mediocre', 'Meeting', 'Mehta', 'Mel', 'Melanie', 'Melodrama', 'Melville', 'Memento', 'Men', 'Mendes', 'Mention', 'Menzel', 'Merchant', 'Mermaid', 'Methodical', 'Meticulously', 'Metropolis', 'Mexican', 'Mexico', 'Meyjes', 'Miami', 'Michael', 'Michel', 'Michele', 'Michell', 'Michelle', 'Mick', 'Middle', 'Middle-earth', 'Might', 'Miike', 'Mika', 'Mike', 'Mildly', 'Mile', 'Miller', 'Mindless', 'Ming-liang', 'Minority', 'Mira', 'Miramax', 'Miss', 'Miyazaki', 'Molly', 'Monday', 'Money', 'Monsoon', 'Monsters', 'Monte', 'Monty', 'Moonlight', 'Moore', 'More', 'Moretti', 'Mormon', 'Morning', 'Morph', 'Morrison', 'Morton', 'Morvern', 'Most', 'Mostly', 'Mothman', 'Motown', 'Mouglalis', 'Move', 'Movie', 'Movies', 'Mr.', 'Ms.', 'Muccino', 'Much', 'Muddled', 'Mummy', 'Murder', 'Murderous', 'Murphy', 'Music', 'Musketeer', 'Musset', 'My', 'Myer', 'Myers', 'Myrtle', 'Mystery', 'N', 'NBA', 'NOT', 'NYC', 'Na', 'Nachtwey', 'Nadia', 'Naipaul', 'Nair', 'Nakata', 'Nalin', 'Napoleon', 'Napoli', 'Narc', 'Nash', 'National', 'Native', 'Nature', 'Nearly', 'Nebrida', 'Neil', 'Neither', 'Nelson', 'Nemesis', 'Nerds', 'Nettelbeck', 'Never', 'Neverland', 'New', 'Newcastle', 'Newfoundland', 'News', 'Next', 'Nicholas', 'Nicholson', 'Nick', 'Nickleby', 'Nicks', 'Nicolas', 'Nicole', 'Nietzsche-referencing', 'Night', 'Nights', 'Nijinsky', 'Nine', 'Niro', 'No', 'No.', 'Nohe', 'Nolan', 'None', 'North', 'Norton', 'Norwegian', 'Not', 'Nothing', 'Notorious', 'Notwithstanding', 'Novak', 'Now', 'Noyce', 'Numbers', 'Nuttgens', 'O', \"O'Fallon\", 'OK', 'Obvious', 'Occasionally', 'Ocean', 'Oddly', 'Oedekerk', 'Of', 'Offers', 'Often', 'Oh', 'Old', 'Oleander', 'Oliver', 'Olivier', 'Olympia', 'On', 'Once', 'One', 'Ong', 'Only', 'Ontiveros', 'Opening', 'Oprah', 'Ops', 'Or', 'Orange', 'Orchard', 'Orders', 'Orgasm', 'Originality', 'Orlean', 'Orwell', 'Oscar', 'Oscar-sweeping', 'Oscar-worthy', 'Otar', 'Other', 'Others', 'Otherwise', 'Our', 'Out', 'Ouzo', 'Over', 'Overall', 'Overcomes', 'Owen', 'Ozpetek', 'PA', 'PB', 'PBS', 'PG-13', 'Pacino', 'Padre', 'Paid', 'Palestinian', 'Palestinians', 'Palma', 'Pan', 'Panic', 'Papin', 'Paradiso', 'Parents', 'Paris', 'Park', 'Parker', 'Part', 'Parts', 'Passionate', 'Passions', 'Past', 'Patch', 'Patient', 'Paul', 'Paulette', 'Pauline', 'Pauly', 'Paxton', 'Pay', 'Payami', 'Payne', 'Pearce', 'Pearl', 'Pellington', 'Penn', 'People', 'Peploe', 'Peralta', 'Perdition', 'Perfectly', 'Performances', 'Perhaps', 'Personal', 'Pete', 'Peter', 'Phifer', 'Philadelphia', 'Philip', 'Philippe', 'Phillip', 'Phoenix', 'Photo', 'Photographed', 'Photographer', 'Pianist', 'Piano', 'Piccoli', 'Pick', 'Picture', 'Pie', 'Pieces', 'Pink', 'Pinocchio', 'Pinochet', 'Pipe', 'Place', 'Planet', 'Playboy', 'Plays', 'Please', 'Plodding', 'Plummer', 'Pluto', 'Plutonium', 'Plympton', 'Poetry', 'Poets', 'Poignant', 'Pokemon', 'Polanski', 'Polson', 'Pompeo', 'Poor', 'Pootie', 'Portuguese', 'Possession', 'Possibly', 'Post', 'Potter', 'Pow', 'Powerpuff', 'Powers', 'Praise', 'Pray', 'Predictable', 'Predictably', 'Presents', 'Pretend', 'Pretty', 'Private', 'Probably', 'Project', 'Promises', 'Proof', 'Prophecies', 'Proposal', 'Proves', 'Provides', 'Pryor', 'Psychologically', 'Public', 'Pumpkin', 'Punch-Drunk', 'Pure', 'Purgatory', 'Puts', 'Python', 'Q', 'Quaid', 'Queen', 'Quentin', 'Quiet', 'Quite', 'Quitting', 'R', 'R.', 'Rabbit-Proof', 'Rachel', 'Raimi', 'Ralph', 'Ram', 'Ramsay', 'Randall', 'Raphael', 'Rare', 'Rarely', 'Rather', 'Ratliff', 'Ray', 'Raymond', 'Reaches', 'Read', 'Real', 'Really', 'Recall', 'Red', 'Reese', 'Reggio', 'Reign', 'Remarkable', 'Remember', 'Remove', 'Renaissance', 'Renner', 'Reno', 'Report', 'Represents', 'Resident', 'Resurrection', 'Return', 'Returns', 'Reveals', 'Revenge', 'Revolution', 'Reyes', 'Reynolds', 'Ribisi', 'Rice', 'Rich', 'Richard', 'Rife', 'Rifkin', 'Right', 'Ring', 'Rings', 'Ringu', 'Rising', 'Ritchie', 'Riviera', 'Road', 'Rob', 'Robert', 'Roberto', 'Roberts', 'Robin', 'Robinson', 'Rock', 'Rocky', 'Rocky-like', 'Rodrigues', 'Rodriguez', 'Roger', 'Rohmer', 'Rollerball', 'Roman', 'Romanek', 'Romantic', 'Ron', 'Room', 'Rose', 'Rouge', 'Rowling', 'Rubbo', 'Ruggero', 'Rules', 'Rumor', 'Run', 'Runner', 'Runs', 'Russell', 'Russian', 'Ryan', 'S.C.', 'S1M0NE', 'SECRETARY', 'Sad', 'Sade', 'Sadly', 'Safe', 'Saigon', 'Salle', 'Sally', 'Salma', 'Salton', 'Sam', 'Same', 'Sampi', 'Samuel', 'San', 'Sand', 'Sandeman', 'Sandler', 'Sandra', 'Santa', 'Sara', 'Sarah', 'Sarandon', 'Satin', 'Saturday', 'Saving', 'Sayles', 'Scarlet', 'Scarpia', 'Schaeffer', 'Schepisi', 'Scherfig', 'Schindler', 'Schmidt', 'Schneider', 'Schnitzler', 'Schrader', 'Schumacher', 'Schwarzenegger', 'Schütte', 'Science', 'Scooby', 'Scooby-Doo', 'Scorcese', 'Scorpion', 'Scorsese', 'Scotland', 'Scott', 'Scottish', 'Scratch', 'Screenwriter', 'Screenwriting', 'Scrooge', 'Sea', 'Seagal', 'Sean', 'Second', 'Secret', 'Secretary', 'Secrets', 'See', 'Seeing', 'Seemingly', 'Seems', 'Seen', 'Segal', 'Seigner', 'Seinfeld', 'Seldahl', 'Serious', 'Serrault', 'Serry', 'Serving', 'Seven', 'Sever', 'Several', 'Sex', 'Sexy', 'Shadyac', 'Shafer', 'Shainberg', 'Shakespeare', 'Shakespearean', 'Shallow', 'Shamelessly', 'Shanghai', 'Sharp', 'Shatner', 'Shattering', 'She', 'Shearer', 'Shekhar', 'Shepard', 'Sheridan', 'Shimizu', 'Shiner', 'Ship', 'Shiri', 'Shirley', 'Shore', 'Shot', 'Should', 'Show', 'Shower', 'Showgirls', 'Shows', 'Showtime', 'Shrek', 'Shreve', 'Shyamalan', 'Side', 'Siege', 'Siegel', 'Signs', 'Silberling', 'Silence', 'Silly', 'Silver', 'Simone', 'Simple', 'Simply', 'Simpson', 'Simpsons', 'Simultaneously', 'Since', 'Singer\\\\/composer', 'Singles', 'Sinks', 'Sisterhood', 'Sitting', 'Sixth', 'Skin', 'Skins', 'Skip', 'Slackers', 'Slap', 'Slight', 'Slow', 'Sly', 'Smart', 'Smith', 'Smoking', 'Smoochy', 'Snatch', 'Snipes', 'Snow', 'So', 'Society', 'Soderbergh', 'Solaris', 'Soldiers', 'Solondz', 'Some', 'Something', 'Sometimes', 'Somewhere', 'Son', 'Sonnenfeld', 'Sonny', 'Sopranos', 'Sorority', 'Sorvino', 'South', 'Southern', 'Spader', 'Spain', 'Spare', 'Sparkles', 'Spears', 'Special', 'Spider-Man', 'Spielberg', 'Spike', 'Spirit', 'Spirited', 'Sprecher', 'Springer', 'Spy', 'Stage', 'Stale', 'Stallone', 'Standing', 'Stands', 'Stanley', 'Star', 'Starts', 'State', 'States', 'Statham', 'Stay', 'Stays', 'Stealing', 'Steers', 'Stein', 'Stephen', 'Steve', 'Steven', 'Stevens', 'Stevenson', 'Stewart', 'Still', 'Stitch', 'Stock', 'Stockwell', 'Stomp', 'Stone', 'Stoppard', 'Story', 'Storytelling', 'Strange', 'Strangers', 'Streets', 'Strictly', 'Strikes', 'Strip', 'Stuart', 'Studios', 'Stuffed', 'Succeeds', 'Such', 'Suffers', 'Suffice', 'Sugar', 'Sugarman', 'Sum', 'Summer', 'Sundance', 'Sunday', 'Sunshine', 'Super', 'Supposedly', 'Sure', 'Surprisingly', 'Susan', 'Sven', 'Swedish', 'Sweet', 'Sweetest', 'Swim', 'Swimfan', 'Swimming', 'Sy', 'Sydney', 'Sydow', 'T', 'T.', 'TV', 'Tadpole', 'Taiwanese', 'Takashi', 'Take', 'Taken', 'Takes', 'Talancón', 'Talk', 'También', 'Tambor', 'Tang', 'Tanovic', 'Tarantino', 'Tarkovsky', 'Tavernier', 'Taxi', 'Taylor', 'Taymor', 'Teacher', 'Teens', 'Tells', 'Temple', 'Tends', 'Tense', 'Terminally', 'Terrific', 'Terry', 'Testud', 'Tezuka', 'Thanks', 'Thanksgiving', 'That', 'The', 'Theater', 'Theatre', 'Their', 'Them', 'Then', 'There', 'These', 'They', 'Thing', 'Things', 'Think', 'Third', 'Thirteen', 'This', 'Thomas', 'Thornberrys', 'Thoroughly', 'Those', 'Though', 'Thought-provoking', 'Three', 'Throughout', 'Throwing', 'Thumbs', 'Thurman', 'Tian', 'Tim', 'Time', 'Tinseltown', 'Titus', 'To', 'Toback', 'Todd', 'Toes', 'Together', 'Told', 'Tolkien', 'Tom', 'Tonto', 'Tony', 'Too', 'Tootsie', 'Top-notch', 'Toro', 'Tosca', 'Total', 'Totally', 'Tout', 'Traffic', 'Trailer', 'Trains', 'Transcends', 'Translating', 'Transporter', 'Trapped', 'Traveler', 'Treasure', 'Trek', 'Tremors', 'Trials', 'Tries', 'Trinity', 'Triple', 'Troopers', 'Trouble', 'True', 'Truffaut', 'Try', 'Trying', 'Tsai', 'Tso', 'Tu', 'Tuck', 'Tucker', 'Tufano', 'Tully', 'Tunisian', 'Tunney', 'Turpin', 'Tuxedo', 'Twenty', 'Twilight', 'Twist', 'Two', 'Twohy', 'Tykwer', 'U.S.', 'UK', 'Ultimate', 'Ultimately', 'Um', 'Unbearable', 'Uncle', 'Under', 'Undercover', 'Undisputed', 'Uneven', 'Unexpected', 'Unfaithful', 'Unfolds', 'Unfortunately', 'Unfunny', 'United', 'Universal', 'Unless', 'Unlike', 'Until', 'Uplifting', 'Upper', 'Using', 'Utah', 'VH1', 'Valley', 'Vampire', 'Vampires', 'Van', 'Vardalos', 'VeggieTales', 'Veggies', 'Velocity', 'Venice', 'Vera', 'Vertical', 'Very', 'Vice', 'Vietnam', 'Vietnamese', 'Viewers', 'Villeneuve', 'Vin', 'Vincent', 'Visually', 'Viva', 'Viveka', 'Vividly', 'Volletta', 'Vonnegut', 'Vs.', 'Vulgar', 'WASP', 'WW', 'Wahlberg', 'Wait', 'Waiting', 'Waking', 'Wal-Mart', 'Walk', 'Wallace', 'Walls', 'Walsh', 'Walt', 'Walter', 'Wang', 'Want', 'War', 'Ward', 'Warm', 'Warner', 'Warren', 'Warrior', 'Wars', 'Was', 'Wasabi', 'Wash.', 'Washington', 'Watched', 'Watching', 'Water', 'Waterboy', 'Waters', 'Watts', 'Wave', 'Way', 'Wayne', 'We', 'Weaver', 'Wedding', 'Weddings', 'Wednesday', 'Weeks', 'Weight', 'Weinstein', 'Weird', 'Welcome', 'Well', 'Well-acted', 'Well-done', 'Well-meaning', 'Welles', 'Wells', 'Welsh', 'Wen', 'Wendigo', 'Were', 'Wertmuller', 'Wesley', 'West', 'Westbrook', 'Western', 'Westerners', 'What', 'Whatever', 'When', 'Whenever', 'Where', 'Whereas', 'Whether', 'While', 'Whitaker', 'White', 'Who', 'Why', 'Wickedly', 'Widowmaker', 'Wife', 'Wilco', 'Wild', 'Wilde', 'Wilder', 'Will', 'William', 'Williams', 'Willie', 'Willis', 'Wilson', 'Winds', 'Windtalkers', 'Wiseman', 'Witch', 'With', 'Witherspoon', 'Without', 'Witless', 'Witty', 'Wolfe', 'Wollter', 'Woman', 'Women', 'Wonder', 'Wonderful', 'Wonderland', 'Wonton', 'Woo', 'Wood', 'Woody', 'Woolf', 'Work', 'Working', 'Works', 'World', 'Worth', 'Would', 'Wow', 'Writer', 'Writer-director', 'Writer\\\\/director', 'X', 'X.', 'XXX', 'Xerox', 'Xiaoshuai', 'Y', 'Ya-Ya', 'Ya-Yas', 'Yakusho', 'Yard', 'Yellow', 'Yes', 'Yet', 'Yi', 'Yiddish', 'Yoda', 'York', 'Yorker', 'Yorkers', 'You', 'Young', 'Your', 'Yu', 'Z-Boys', 'Zaza', 'Zealand', 'Zealanders', 'Zhang', 'Zhuangzhuang', 'Zone', '\\\\*', '\\\\*\\\\*', '\\\\*\\\\*\\\\*', '\\\\/', '`', '``', 'a', 'abandon', 'abandoned', 'abhorrent', 'ability', 'able', 'ably', 'abound', 'about', 'above', 'above-average', 'abroad', 'abrupt', 'absolute', 'absolutely', 'absorb', 'absorbing', 'abstract', 'absurd', 'absurdist', 'absurdities', 'absurdity', 'absurdly', 'abundant', 'abundantly', 'abuse', 'abyss', 'academic', 'accent', 'accents', 'accept', 'acceptable', 'accepting', 'accepts', 'access', 'accessible', 'accident', 'acclaim', 'accompanies', 'accompanying', 'accomplish', 'accomplished', 'accomplishes', 'accomplishments', 'account', 'accuracy', 'accurate', 'accurately', 'accuse', 'acerbic', 'ache', 'achieve', 'achievement', 'achievements', 'achieves', 'achieving', 'achingly', 'achronological', 'acid', 'acidity', 'acknowledges', 'acknowledging', 'acquainted', 'acquired', 'acquires', 'acrid', 'across', 'act', 'acted', 'acting', 'action', 'action-adventure', 'action-comedy', 'action-packed', 'actions', 'actor', 'actor\\\\/director', 'actorly', 'actors', 'actress', 'actresses', 'acts', 'actual', 'actually', 'actuary', 'acute', 'ad', 'adage', 'adamant', 'adaptation', 'adaptations', 'adapted', 'adapts', 'add', 'added', 'addict', 'adding', 'addition', 'address', 'addresses', 'addressing', 'adds', 'adequate', 'adequately', 'adjusting', 'admirable', 'admirably', 'admire', 'admirers', 'admission', 'admit', 'admitted', 'admittedly', 'adolescence', 'adolescent', 'adopt', 'adorable', 'adorably', 'adrenalin', 'adrenaline', 'adrenalized', 'adult', 'adults', 'advance', 'advantage', 'adventure', 'adventures', 'adventurous', 'advertised', 'advice', 'advised', 'advises', 'aesthetic', 'affable', 'affair', 'affected', 'affecting', 'affection', 'affectionate', 'affirming', 'affirms', 'afford', 'affords', 'aficionados', 'afloat', 'afraid', 'after', 'after-school', 'afterlife', 'afternoon', 'aftertaste', 'afterthought', 'again', 'against', 'age', 'aged', 'agenda', 'agendas', 'agent', 'ages', 'aggravating', 'aggressively', 'aging', 'ago', 'agonizing', 'agony', 'aground', 'ahead', 'ai', 'aid', 'aim', 'aimed', 'aimless', 'aimlessly', 'aimlessness', 'aims', 'air', 'airless', 'airs', 'aisles', 'akin', 'al.', 'alacrity', 'alas', 'albeit', 'album', 'alert', 'alien', 'alienating', 'alienation', 'aliens', 'alike', 'alive', 'all', 'all-around', 'all-star', 'all-time', 'all-too-familiar', 'allegedly', 'allegory', 'allow', 'allowed', 'allowing', 'allows', 'alluring', 'allusions', 'almost', 'aloft', 'alone', 'along', 'aloof', 'already', 'also', 'alternate', 'alternately', 'alternative', 'although', 'altogether', 'always', 'am', 'amalgam', 'amateur', 'amateurish', 'amateurishly', 'amazing', 'amazingly', 'ambiguity', 'ambiguous', 'ambition', 'ambitions', 'ambitious', 'amiable', 'amid', 'amidst', 'among', 'amount', 'amounts', 'ample', 'amuse', 'amused', 'amusing', 'an', 'anachronistic', 'analytical', 'anarchist', 'anchoring', 'anchors', 'ancient', 'and', 'and\\\\/or', 'anemic', 'anew', 'angels', 'anger', 'angle', 'angry', 'angst', 'anguish', 'anguished', 'animal', 'animals', 'animated', 'animation', 'animatronic', 'anime', 'animé', 'annals', 'annoying', 'annual', 'anomie', 'anonymity', 'anonymous', 'another', 'answer', 'answers', 'ante', 'anteing', 'anthology', 'anti-Catholic', 'anti-Semitism', 'anticipated', 'antics', 'antidote', 'any', 'anybody', 'anymore', 'anyone', 'anything', 'anyway', 'anywhere', 'apart', 'aplenty', 'aplomb', 'appalling', 'apparatus', 'apparent', 'apparently', 'appeal', 'appealing', 'appeals', 'appear', 'appearance', 'appeared', 'appears', 'appetite', 'appetizing', 'applies', 'apply', 'applying', 'appointed', 'appreciate', 'appreciated', 'appreciation', 'approach', 'approached', 'approaches', 'approaching', 'appropriate', 'arbitrary', 'arc', 'arch', 'architect', 'architecture', 'archival', 'arctic', 'ardent', 'ardently', 'arduous', 'are', 'area', 'argue', 'argues', 'arguing', 'argument', 'arguments', 'aristocracy', 'aristocrats', 'arithmetic', 'arms', 'around', 'arrangements', 'arrest', 'arresting', 'arrive', 'arrived', 'arrives', 'arriving', 'art', 'art-house', 'artful', 'artfully', 'articulate', 'articulates', 'artifice', 'artificial', 'artist', 'artistes', 'artistic', 'artistically', 'artistry', 'artists', 'artless', 'arts', 'artsy', 'artworks', 'arty', 'as', 'ascends', 'ascension', 'aside', 'ask', 'asking', 'asks', 'asleep', 'asparagus', 'aspect', 'aspects', 'aspirations', 'aspires', 'assassin', 'assassination', 'assault', 'assembled', 'assembly', 'asset', 'associated', 'assume', 'assumes', 'assuming', 'assumption', 'assurance', 'assured', 'assuredly', 'astonish', 'astonishing', 'astonishingly', 'astounding', 'astoundingly', 'astray', 'astringent', 'astronaut', 'astronauts', 'astute', 'asylum', 'at', 'athletes', 'athletic', 'athleticism', 'atmosphere', 'atmospheric', 'atmospherics', 'atop', 'atrocious', 'attach', 'attached', 'attack', 'attacks', 'attempt', 'attempted', 'attempts', 'attendant', 'attending', 'attention', 'attitude', 'attract', 'attraction', 'attractive', 'attuned', 'audacious', 'audacity', 'audience', 'audiences', 'auditorium', 'austere', 'austerity', 'auteur', 'authentic', 'authentically', 'authenticity', 'author', 'authority', 'autobiographical', 'automatic', 'automatically', 'autopsy', 'available', 'avant', 'avant-garde', 'avenues', 'average', 'averting', 'avoid', 'avoids', 'awake', 'awakening', 'award', 'award-winning', 'awards', 'aware', 'awareness', 'away', 'awe', 'awe-inspiring', 'awed', 'awful', 'awfully', 'awfulness', 'awkward', 'awkwardly', 'awkwardness', 'awry', 'b', 'baby', 'babysitter', 'back', 'back-stabbing', 'backdrop', 'backdrops', 'backed', 'background', 'backgrounds', 'backhanded', 'backmasking', 'backstage', 'backyard', 'bad', 'badly', 'badness', 'baffled', 'baffling', 'bag', 'baggage', 'balance', 'balanced', 'balances', 'balancing', 'ball', 'ballast', 'ballerinas', 'ballet', 'ballplayer', 'balm', 'banal', 'banality', 'band', 'bands', 'bank', 'banking', 'bankrupt', 'banquet', 'banter', 'bar', 'bard', 'bare', 'barely', 'barf', 'bargain-basement', 'bark', 'baroque', 'barrel', 'barriers', 'bars', 'base', 'baseball', 'based', 'basest', 'basic', 'basically', 'basis', 'basketball', 'batch', 'bath', 'bathos', 'bathroom', 'bathtub', 'battle', 'be', 'beach', 'beacon', 'bear', 'bearing', 'bears', 'beat', 'beat-the-clock', 'beaten', 'beats', 'beause', 'beautiful', 'beautifully', 'beauty', 'became', 'because', 'become', 'becomes', 'becoming', 'bed', 'bedevilling', 'bedroom', 'bedside', 'bedtime', 'been', 'been-there', 'beers', 'before', 'begging', 'begin', 'beginning', 'begins', 'beguiling', 'begun', 'behave', 'behavior', 'behind', 'behold', 'being', 'beings', 'believability', 'believable', 'believe', 'believed', 'believer', 'believing', 'belittle', 'belly', 'belongs', 'beloved', 'below', 'belt', 'beneath', 'benefit', 'benefited', 'benefits', 'bent', 'beside', 'besides', 'best', 'best-known', 'bet', 'betrayal', 'better', 'betting', 'between', 'bewildering', 'bewilderingly', 'beyond', 'biased', 'big', 'big-screen', 'bigger', 'biggest', 'bike', 'bikes', 'bile', 'bio', 'bio-pic', 'biographical', 'biography', 'biopic', 'birthday', 'bit', 'bitchy', 'bite', 'bites', 'biting', 'bits', 'bitter', 'bitterly', 'bittersweet', 'bizarre', 'blab', 'black', 'black-and-white', 'blacked', 'blacklight', 'blame', 'bland', 'blandness', 'blank', 'blanket', 'blanks', 'blasphemous', 'blast', 'blasts', 'blatant', 'blaxploitation', 'bleak', 'bleakness', 'bled', 'blemishes', 'blend', 'blended', 'blighter', 'blind', 'blip', 'blithe', 'bloated', 'block', 'blockage', 'blockbuster', 'blockbusters', 'blood', 'blood-curdling', 'bloodshed', 'bloody', 'blow', 'blown', 'blown-out', 'blows', 'blubber', 'blue', 'blues', 'bluescreen', 'bluff', 'blunt', 'blurry', 'bluster', 'board', 'boasting', 'boasts', 'boat', 'bodice-ripper', 'bodies', 'bodily', 'body', 'bogged', 'bogs', 'bogus', 'boilerplate', 'boils', 'boisterous', 'bold', 'boldly', 'bolster', 'bomb', 'bombastic', 'bombshell', 'bond', 'bone', 'bones', 'bonus', 'boobs', 'book', 'books', 'boom', 'boom-bam', 'boomer', 'boorishness', 'boost', 'boots', 'boozy', 'border', 'bordering', 'borderline', 'borders', 'bore', 'bored', 'boredom', 'boring', 'born', 'borrows', 'boss', 'both', 'bother', 'bothered', 'bothers', 'bottom', 'bought', 'bouncing', 'bouncy', 'bound', 'boundaries', 'boundary-hopping', 'bouquet', 'bourgeois', 'bow', 'bowel', 'box', 'boy', 'boys', 'bracing', 'bracingly', 'brain', 'brains', 'brand', 'brash', 'brass', 'bravado', 'brave', 'bravery', 'brawny', 'breadth', 'break', 'breakdown', 'breaking', 'breaks', 'breakthrough', 'breath', 'breathe', 'breathes', 'breathing', 'breathless', 'breathtaking', 'breathtakingly', 'breed', 'breezy', 'brew', 'brief', 'briefly', 'bright', 'brightly', 'brilliance', 'brilliant', 'brilliantly', 'brim', 'brimming', 'bring', 'bringing', 'brings', 'brink', 'brio', 'brisk', 'brittle', 'broaches', 'broad', 'broader', 'brogue', 'broke', 'broken', 'brooding', 'brother', 'brothers', 'brought', 'brow', 'bruised', 'brush', 'brusqueness', 'brutal', 'brutality', 'brutally', 'bubbles', 'bubbly', 'bucked', 'bucks', 'budding', 'buddy', 'budget', 'buffs', 'bug-eyed', 'build', 'build-up', 'building', 'builds', 'built', 'bull', 'bullets', 'bullfighters', 'bullseye', 'bumbling', 'bump', 'bunch', 'bundling', 'buoyant', 'buried', 'burn', 'burns', 'burst', 'bursting', 'bursts', 'business', 'busy', 'but', 'butt', 'butter', 'butterflies', 'buttons', 'buy', 'buzz', 'buzz-obsessed', 'by', 'by-the-book', 'by-the-numbers', 'bygone', 'ca', 'cabins', 'cable', 'cad', 'cadences', 'caffeinated', 'cake', 'calculated', 'calibrated', 'call', 'called', 'callow', 'calls', 'calm', 'camaraderie', 'came', 'cameo', 'cameos', 'camera', 'cameras', 'camouflage', 'camp', 'campaign', 'camps', 'campus', 'campy', 'can', 'candy', 'candy-coat', 'canned', 'cannibal', 'canny', 'canon', 'canvas', 'capability', 'capable', 'capacity', 'cape', 'caper', 'capitalism', 'capitalize', 'captain', 'captivated', 'captivating', 'captivatingly', 'capture', 'captured', 'captures', 'capturing', 'car', 'card', 'cardboard', 'care', 'careens', 'career', 'career-best', 'career-defining', 'careers', 'careful', 'carefully', 'cares', 'caricatures', 'caring', 'carnage', 'carol', 'carried', 'carries', 'carry', 'carrying', 'cars', 'cartons', 'cartoon', 'cartoonish', 'cartoons', 'carved', 'case', 'cases', 'casings', 'cast', 'casting', 'casts', 'casual', 'cat-and-mouse', 'catapulting', 'catch', 'catches', 'catching', 'category', 'cathartic', 'cattle', 'caught', 'cause', 'causes', 'caustic', 'cautionary', 'celebrate', 'celebrated', 'celebrates', 'celebration', 'celebrities', 'celebrity', 'celebrityhood', 'cell', 'celluloid', 'center', 'centered', 'centering', 'centers', 'central', 'centre', 'century', 'cerebral', 'certain', 'certainly', 'chafing', 'chair', 'challenged', 'challenges', 'challenging', 'champion', 'chance', 'chances', 'change', 'changes', 'changing', 'channel', 'channeling', 'chaos', 'chaotic', 'character', 'characteristic', 'characteristically', 'characterization', 'characterizations', 'characterize', 'characterized', 'characters', 'charge', 'charged', 'charisma', 'charismatic', 'charitable', 'charm', 'charmer', 'charming', 'charmless', 'charms', 'chase', 'chases', 'chasm', 'cheap', 'cheap-shot', 'cheapening', 'cheaper', 'cheapo', 'cheat', 'cheated', 'check', 'checklist', 'cheek', 'cheeky', 'cheer', 'cheering', 'cheery', 'cheese', 'cheesiest', 'cheesy', 'chemicals', 'chemistry', 'chest', 'chew', 'chewing', 'chiaroscuro', 'chick', 'chicken', 'chief', 'chiefly', 'child', 'childhood', 'childish', 'childlike', 'children', 'chiller', 'chilling', 'chillingly', 'chills', 'chilly', 'chimes', 'chimps', 'chocolate', 'choice', 'choices', 'chokes', 'chomp', 'choose', 'chooses', 'choosing', 'choppy', 'chops', 'chord', 'chords', 'choreographed', 'choreography', 'chosen', 'chronicle', 'chuckle', 'chuckles', 'church', 'cinema', 'cinemantic', 'cinematic', 'cinematically', 'cinematographer', 'cinematography', 'cipher', 'circa', 'circle', 'circles', 'circumstances', 'circumstantial', 'circus', 'cities', 'city', 'civic', 'civics', 'clad', 'claim', 'claims', 'claptrap', 'clarity', 'clash', 'clashing', 'class', 'classes', 'classic', 'classical', 'classics', 'classified', 'classify', 'classy', 'claustrophobia', 'claustrophobic', 'clean', 'cleaner', 'clear', 'clear-eyed', 'clearly', 'clever', 'cleverly', 'cleverness', 'cliche', 'cliche-ridden', 'cliched', 'cliches', 'cliché', 'clichéd', 'clichés', 'clicks', 'clients', 'climactic', 'climate', 'climax', 'clinic', 'clinical', 'clips', 'close', 'close-ups', 'closely', 'closer', 'closest', 'closing', 'closure', 'clothes', 'clothing', 'clouds', 'cloying', 'cloyingly', 'clubs', 'clue', 'clueless', 'clumsily', 'clumsy', 'clunky', 'co', 'co-stars', 'co-writer', 'co-writer\\\\/director', 'co-writers', 'co-written', 'coal', 'cobbled', 'cocktail', 'cocky', 'code', 'coffee', 'coherent', 'cohesion', 'cohesive', 'cold', 'cold-blooded', 'cold-hearted', 'coldest', 'collaboration', 'collaborative', 'collaborators', 'collage', 'collapse', 'collapses', 'colleagues', 'collect', 'collection', 'collective', 'collectively', 'college', 'collegiate', 'collide', 'collie', 'collision', 'color', 'colored', 'colorful', 'colorfully', 'colors', 'colour', 'column', 'coma', 'comatose', 'combat', 'combination', 'combine', 'combined', 'combines', 'combustible', 'come', 'comedian', 'comedic', 'comedies', 'comedy', 'comedy-drama', 'comedy\\\\/drama', 'comes', 'comfort', 'comfortable', 'comforting', 'comic', 'comically', 'comics', 'coming', 'coming-of-age', 'commands', 'commended', 'comment', 'commentary', 'comments', 'commercial', 'commercialism', 'commitment', 'committed', 'common', 'commonplace', 'communal', 'communicates', 'community', 'companion', 'companionship', 'company', 'compare', 'compared', 'comparison', 'compassion', 'compassionate', 'compelling', 'compellingly', 'compels', 'compendium', 'compensate', 'competence', 'competent', 'competition', 'complacency', 'complaint', 'complaints', 'complete', 'completely', 'completion', 'complex', 'complexities', 'complexity', 'complicated', 'complications', 'compliment', 'composed', 'composition', 'comprehend', 'comprehension', 'compressed', 'compromise', 'compromised', 'compulsively', 'computer', 'computer-animated', 'computer-generated', 'computerized', 'con', 'conceal', 'conceit', 'conceits', 'conceive', 'concentrates', 'concentration', 'concept', 'conception', 'conceptual', 'concern', 'concerned', 'concerns', 'concert', 'concession', 'conclusion', 'concocted', 'concoction', 'condensed', 'condescending', 'condescension', 'condition', 'conditioning', 'conditions', 'conducted', 'confection', 'confidence', 'confident', 'configurations', 'confined', 'confining', 'confirms', 'conflict', 'conflicted', 'conflicts', 'confluence', 'confront', 'confrontational', 'confrontations', 'confronting', 'confused', 'confusing', 'confusion', 'conjured', 'conjures', 'connect', 'connect-the-dots', 'connected', 'connection', 'connections', 'conned', 'conquer', 'conscience', 'conscious', 'consciousness', 'consequence', 'consequences', 'conservative', 'consider', 'considerable', 'considerably', 'consideration', 'considered', 'considering', 'considers', 'consigned', 'consistency', 'consistent', 'consistently', 'consolation', 'conspicuous', 'conspiracies', 'conspiracy', 'conspiratorial', 'conspirators', 'constant', 'constantly', 'constraints', 'construct', 'constructed', 'construction', 'constructs', 'consume', 'consumed', 'consumers', 'consuming', 'contact', 'contained', 'contains', 'contemplation', 'contemplative', 'contemporaries', 'contemporary', 'content', 'contentious', 'contest', 'context', 'continuation', 'continue', 'continues', 'continuing', 'continuity', 'contradiction', 'contradictory', 'contraption', 'contrast', 'contrasting', 'contributed', 'contributes', 'contribution', 'contributions', 'contrivance', 'contrivances', 'contrived', 'contriving', 'control', 'controlling', 'controversial', 'controversy', 'conundrum', 'convenient', 'convention', 'conventional', 'conventions', 'conversation', 'conversations', 'converted', 'converts', 'convey', 'conveying', 'conveys', 'conviction', 'convictions', 'convince', 'convinced', 'convincing', 'convincingly', 'convoluted', 'cooks', 'cool', 'cooly', 'cop', 'cop-flick', 'cope', 'coping', 'cops', 'copy', 'copycat', 'core', 'corn', 'corner', 'corners', 'corniest', 'corny', 'corporate', 'corpse', 'correct', 'correctness', 'corruption', 'cost', 'costly', 'costume', 'costumes', 'cotton', 'coughed', 'could', 'coulda', 'count', 'counter-cultural', 'counterparts', 'countless', 'country', 'counts', 'couple', 'couples', 'courage', 'courageous', 'course', 'court', 'courtship', 'cover', 'covers', 'cowering', 'crack', 'crackers', 'crackle', 'crackles', 'craft', 'crafted', 'craftsmanship', 'crafty', 'cram', 'crammed', 'cranky', 'crap', 'crappola', 'crash', 'crashing', 'crass', 'crassly', 'crawling', 'crazed', 'craziness', 'crazy', 'creaky', 'create', 'created', 'creates', 'creating', 'creation', 'creations', 'creative', 'creativity', 'creators', 'creature', 'creature-feature', 'creatures', 'credibility', 'credible', 'credit', 'credited', 'credits', 'creepiness', 'creeping', 'creeps', 'creepy', 'crew', 'cricket', 'crime', 'crimes', 'criminal', 'cringe', 'crippled', 'crisis', 'crisp', 'critic', 'critical', 'criticism', 'critics', 'critique', 'crooned', 'cross', 'cross-country', 'crossed', 'crosses', 'crossover', 'crowd', 'crowd-pleaser', 'crowd-pleasing', 'crowded', 'crucial', 'crucifixion', 'crude', 'crudely', 'crudity', 'cruel', 'crumb', 'crush', 'crushingly', 'cry', 'cuddly', 'cuisine', 'cult', 'cultural', 'culture', 'culture-clash', 'cultures', 'cumbersome', 'cumulative', 'cunning', 'cup', 'cure', 'curiosity', 'curious', 'curiously', 'curmudgeon', 'current', 'currently', 'curse', 'cussing', 'cut', 'cute', 'cuteness', 'cutesy', 'cuts', 'cutter', 'cutting', 'cutting-edge', 'cyber', 'cycle', 'cylinders', 'cynical', 'cynicism', 'da', 'daily', 'damage', 'damaged', 'damn', 'damned', 'damning', 'dampened', 'dance', 'dances', 'dancing', 'danger', 'dangerous', 'dangerously', 'dare', 'dares', 'daring', 'dark', 'darker', 'darkly', 'darkness', 'darling', 'darned', 'dash', 'dashing', 'date', 'dated', 'dating', 'daughter', 'daughters', 'dawns', 'day', 'daydreams', 'days', 'daytime', 'dazed', 'dazzling', 'de', 'dead', 'dead-end', 'dead-on', 'deadly', 'deadpan', 'deal', 'dealers', 'dealing', 'deals', 'dearth', 'death', 'deaths', 'debate', 'debated', 'debris', 'debt', 'debut', 'decade', 'decadent', 'decades', 'deceit', 'decency', 'decent', 'decent-enough', 'deception', 'deceptions', 'deceptively', 'decide', 'decided', 'decidedly', 'decides', 'decision', 'deckhand', 'declared', 'dedication', 'deep', 'deep-seated', 'deeper', 'deepest', 'deeply', 'defeated', 'defeats', 'defiance', 'defiant', 'defiantly', 'defies', 'define', 'defines', 'defining', 'definite', 'definitely', 'definition', 'definitive', 'deft', 'deftly', 'degraded', 'degree', 'deja', 'del', 'delayed', 'delectable', 'deliberate', 'deliberately', 'delicate', 'delicately', 'delicious', 'deliciously', 'delight', 'delighted', 'delightful', 'delightfully', 'delights', 'deliver', 'delivered', 'delivering', 'delivers', 'delivery', 'delusional', 'delusions', 'demand', 'demanding', 'demands', 'demeaning', 'demented', 'demise', 'demographic', 'demographically', 'demons', 'demonstrate', 'demonstrates', 'demonstrating', 'demonstration', 'denial', 'denied', 'denizens', 'denouement', 'denouements', 'dentist', 'denying', 'department', 'departs', 'departure', 'depend', 'dependent', 'depending', 'depends', 'depict', 'depicted', 'depiction', 'depicts', 'depraved', 'depressed', 'depressing', 'depression', 'depth', 'depths', 'der', 'derivative', 'derive', 'derived', 'derives', 'derring-do', 'descend', 'descends', 'describe', 'described', 'describes', 'desecrations', 'desert', 'deserve', 'deserved', 'deserves', 'deserving', 'desiccated', 'design', 'designed', 'desire', 'desired', 'desires', 'desolate', 'despair', 'desperate', 'desperately', 'desperation', 'despite', 'destination', 'destined', 'destiny', 'destroy', 'destruction', 'detached', 'detail', 'detailed', 'detailing', 'details', 'detective', 'deteriorates', 'determination', 'determine', 'determined', 'detract', 'detriment', 'devastating', 'devastatingly', 'develop', 'developed', 'developing', 'development', 'developments', 'develops', 'devices', 'devoid', 'devolves', 'devotees', 'di', 'diabolical', 'dialog', 'dialogue', 'diaries', 'diatribes', 'did', 'didactic', 'didacticism', 'die', 'died', 'dies', 'difference', 'differences', 'different', 'difficult', 'difficulties', 'difficulty', 'digital', 'digits', 'dignity', 'digressions', 'digs', 'dilemma', 'dilutes', 'dim-witted', 'dime', 'dime-store', 'dimension', 'dimensions', 'diminishing', 'dimming', 'diner', 'dinner', 'dip', 'diplomacy', 'dips', 'direct', 'direct-to-video', 'directed', 'directing', 'direction', 'directions', 'directly', 'director', 'directorial', 'directors', 'directs', 'dirty', 'disappears', 'disappoint', 'disappointed', 'disappointing', 'disappointingly', 'disappointment', 'disappointments', 'disappoints', 'disapproval', 'disarming', 'disarmingly', 'disaster', 'disbelief', 'discarded', 'discerned', 'discernible', 'discerning', 'discipline', 'discomfort', 'disconnection', 'discontent', 'discord', 'discourse', 'discover', 'discovering', 'discovery', 'discreet', 'discussed', 'discussion', 'disdain', 'disguise', 'disguised', 'disguising', 'disgust', 'disgusting', 'dish', 'dishonest', 'dishonesty', 'dishonorable', 'disingenuous', 'disintegrating', 'disinterest', 'disjointed', 'dismiss', 'dismissed', 'disoriented', 'disparate', 'display', 'displays', 'disposable', 'dispossessed', 'disquieting', 'disregard', 'distance', 'distanced', 'distant', 'distasteful', 'distinct', 'distinction', 'distinctive', 'distinctly', 'distinguish', 'distinguished', 'distortions', 'distract', 'distracted', 'distracting', 'distraction', 'disturb', 'disturbed', 'disturbing', 'disturbingly', 'ditched', 'ditsy', 'diva', 'diverse', 'diversion', 'diversity', 'diverting', 'divine', 'do', 'doc', 'docu-drama', 'document', 'documentarians', 'documentaries', 'documentary', 'documents', 'does', 'dog', 'dog-tag', 'dogged', 'dogs', 'doing', 'doings', 'dollar', 'dollars', 'dolls', 'domestic', 'dominant', 'dominate', 'dominated', 'done', 'donna', 'doofus', 'doomed', 'door', 'dope', 'dopey', 'dosage', 'dose', 'doses', 'double', 'doubt', 'dough', 'dour', 'down', 'down-to-earth', 'downbeat', 'downer', 'downfall', 'downhill', 'downright', 'downsizing', 'downtown', 'downward', 'doze', 'dozen', 'dozens', 'drab', 'drag', 'dragged', 'dragons', 'drags', 'drains', 'drama', 'dramas', 'dramatic', 'dramatically', 'dramatization', 'dramatized', 'dramatizing', 'dramedy', 'drang', 'draw', 'drawing', 'drawings', 'drawn', 'draws', 'dread', 'dreadful', 'dreadfully', 'dream', 'dreamed', 'dreams', 'dreary', 'dreck', 'dressed', 'drew', 'drink', 'drinking', 'drips', 'drive', 'drivel', 'driven', 'driver', 'drives', 'droll', 'drooling', 'drop', 'drown', 'drowned', 'drowns', 'drug', 'druggy', 'drugs', 'dry', 'dual', 'dubbed', 'dubious', 'duck', 'dud', 'dude', 'due', 'duel', 'dull', 'dullard', 'dullest', 'duly', 'dumb', 'dumbed-down', 'dumbness', 'dumped', 'durable', 'duration', 'during', 'dust', 'dutiful', 'duty', 'dying', 'dynamic', 'dynamics', 'dynamism', 'dysfunction', 'dysfunctional', 'each', 'eager', 'ear', 'earlier', 'early', 'earn', 'earned', 'earnest', 'earnestness', 'earns', 'ears', 'earth', 'ease', 'easier', 'easily', 'easy', 'eat', 'eating', 'eats', 'ebullient', 'eccentric', 'eccentricities', 'eccentrics', 'echoes', 'ecological', 'economic', 'economical', 'edge', 'edges', 'edgy', 'edited', 'editing', 'edition', 'edits', 'education', 'educational', 'eerie', 'eerily', 'effect', 'effecting', 'effective', 'effectively', 'effectiveness', 'effects', 'efficiently', 'effort', 'effortless', 'effortlessly', 'efforts', 'ego', 'eight', 'eighties', 'either', 'elaborate', 'elbows', 'electric', 'elegance', 'elegant', 'elegantly', 'elegiac', 'element', 'elements', 'elevate', 'elevated', 'elevates', 'elicit', 'eloquence', 'eloquent', 'eloquently', 'else', 'elsewhere', 'elude', 'elusive', 'embarrassed', 'embarrassment', 'embodies', 'embrace', 'embraced', 'embraces', 'embracing', 'embroils', 'emerge', 'emergence', 'emerges', 'emerging', 'emigre', 'eminently', 'emotion', 'emotional', 'emotionally', 'emotions', 'empathize', 'empathizes', 'empathy', 'emphasis', 'emphasizes', 'emphasizing', 'empire', 'employ', 'employment', 'employs', 'empowerment', 'emptiness', 'empty', 'enchanting', 'encounter', 'encounters', 'encourage', 'encourages', 'encouraging', 'end', 'endearing', 'endeavor', 'endeavors', 'endeavour', 'ended', 'ending', 'endings', 'endless', 'endlessly', 'ends', 'endurance', 'endure', 'enduring', 'energetic', 'energized', 'energy', 'enervating', 'engage', 'engaged', 'engages', 'engaging', 'engagingly', 'engineering', 'engrossing', 'enhances', 'enigmatic', 'enjoy', 'enjoyable', 'enjoyably', 'enjoyed', 'enjoying', 'enjoyment', 'enjoys', 'enlightened', 'enlightening', 'enormous', 'enormously', 'enough', 'ensemble', 'ensues', 'ensure', 'ensures', 'enter', 'entered', 'enterprise', 'enters', 'entertain', 'entertained', 'entertaining', 'entertainingly', 'entertainment', 'entertains', 'enthralling', 'enthusiasm', 'enthusiastic', 'enthusiasts', 'enticing', 'entire', 'entirely', 'entitled', 'entity', 'entranced', 'entree', 'entry', 'enveloping', 'environment', 'environmental', 'environments', 'epic', 'epiphanies', 'epiphany', 'episode', 'episodes', 'episodic', 'equal', 'equalizer', 'equally', 'equals', 'equation', 'equivalent', 'er', 'era', 'erects', 'erotic', 'erotically', 'erratic', 'errors', 'escape', 'escaped', 'escapes', 'escapism', 'escapist', 'escort', 'especially', 'espionage', 'essence', 'essential', 'essentially', 'established', 'establishes', 'estranged', 'et', 'etc.', 'etched', 'ethereal', 'ethical', 'ethics', 'ethnic', 'ethnography', 'ethos', 'euphoria', 'evade', 'evaluate', 'even', 'evening', 'event', 'eventful', 'events', 'eventual', 'eventually', 'ever', 'evergreen', 'every', 'everybody', 'everyday', 'everyone', 'everything', 'everywhere', 'evidence', 'evident', 'evil', 'evocation', 'evocative', 'evoke', 'evokes', 'evoking', 'evolution', 'evolve', 'evolved', 'evolves', 'exact', 'exactly', 'exaggerated', 'exalted', 'examination', 'examine', 'examines', 'example', 'exceeding', 'exceedingly', 'exceeds', 'excellent', 'excels', 'except', 'exception', 'exceptional', 'exceptionally', 'exceptions', 'excess', 'excesses', 'excessively', 'exchange', 'excited', 'excitement', 'exciting', 'exclamation', 'excruciating', 'excruciatingly', 'excursion', 'excuse', 'executed', 'execution', 'executive', 'exercise', 'exhausted', 'exhausting', 'exhibit', 'exhilarating', 'exist', 'existed', 'existence', 'existential', 'existentialism', 'existing', 'exists', 'exit', 'exotic', 'exoticism', 'expanded', 'expands', 'expect', 'expectation', 'expectations', 'expected', 'expecting', 'expects', 'expedience', 'expense', 'expensive', 'experience', 'experienced', 'experiences', 'experiment', 'experimental', 'experimentation', 'expert', 'expertly', 'expiration', 'explain', 'explaining', 'explains', 'explanation', 'explanations', 'explicit', 'explode', 'exploit', 'exploitation', 'exploitative', 'exploiting', 'exploitive', 'exploits', 'exploration', 'exploratory', 'explore', 'explored', 'explores', 'exploring', 'explosion', 'explosions', 'explosive', 'expose', 'exposes', 'exposition', 'exposé', 'express', 'expresses', 'expressing', 'expression', 'expressions', 'expressive', 'exquisite', 'exquisitely', 'extended', 'extension', 'extensive', 'extent', 'exterior', 'exterminator', 'extra', 'extraordinarily', 'extraordinary', 'extravagant', 'extravaganza', 'extreme', 'extremely', 'extremes', 'exuberance', 'exuberant', 'exudes', 'eye', 'eye-catching', 'eye-popping', 'eyelids', 'eyes', 'fable', 'fabric', 'face', 'faced', 'faces', 'facet', 'facetious', 'facile', 'facing', 'fact', 'factor', 'factors', 'factory', 'facts', 'fade', 'fail', 'failed', 'failing', 'failings', 'fails', 'failure', 'fair', 'fairly', 'fairness', 'fairy', 'fairy-tale', 'faith', 'faithful', 'fake', 'fall', 'fallen', 'falling', 'falls', 'false', 'falters', 'familial', 'familiar', 'familiarity', 'families', 'family', 'family-friendly', 'famous', 'fan', 'fanatics', 'fanciful', 'fancy', 'fans', 'fantasia', 'fantasies', 'fantasized', 'fantastic', 'fantastically', 'fantasy', 'far', 'far-fetched', 'faraway', 'farce', 'farcical', 'fare', 'fart', 'farts', 'fascinate', 'fascinated', 'fascinates', 'fascinating', 'fascination', 'fashion', 'fashioned', 'fashioning', 'fast', 'fast-moving', 'fast-paced', 'faster', 'fat', 'fatal', 'fatalism', 'fate', 'father', 'fatherhood', 'fathers', 'fault', 'faults', 'favor', 'favored', 'favorite', 'favors', 'favour', 'fax', 'fear', 'fearless', 'fearlessness', 'fears', 'feast', 'feat', 'feature', 'feature-length', 'featured', 'features', 'featuring', 'feces', 'feeble', 'feel', 'feel-good', 'feeling', 'feelings', 'feels', 'feet', 'feisty', 'fellow', 'felt', 'female', 'feminine', 'feminist', 'feral', 'ferocity', 'ferret', 'fervently', 'fervid', 'fest', 'festival', 'fetishes', 'few', 'fewer', 'fiascos', 'fiction', 'fictional', 'fidgeted', 'field', 'fierce', 'fiercely', 'fiery', 'fifth', 'fight', 'fighter', 'fighting', 'fights', 'figure', 'figured', 'figures', 'figuring', 'fill', 'filled', 'filling', 'fillm', 'fills', 'film', 'filmed', 'filmgoers', 'filming', 'filmmaker', 'filmmakers', 'filmmaking', 'films', 'filter', 'final', 'finale', 'finally', 'find', 'finding', 'findings', 'finds', 'fine', 'finely', 'finesse', 'finest', 'finger', 'fingers', 'finish', 'finished', 'finishes', 'fire', 'fires', 'fireworks', 'firing', 'firmly', 'first', 'first-class', 'first-rate', 'first-time', 'fish', 'fish-out-of-water', 'fishy', 'fit', 'fitfully', 'fits', 'fitting', 'five', 'fix', 'fixating', 'fizz', 'fizzability', 'fizzle', 'flabbergasting', 'flabby', 'flaccid', 'flailing', 'flair', 'flamboyant', 'flame', 'flash', 'flashback', 'flashbacks', 'flashes', 'flashy', 'flat', 'flat-out', 'flatly', 'flattens', 'flatter', 'flatula', 'flatulence', 'flavor', 'flavorless', 'flavours', 'flaw', 'flawed', 'flawless', 'flaws', 'flee', 'fleeting', 'flesh', 'fleshed-out', 'flick', 'flickering', 'flicks', 'flies', 'flight', 'flimsy', 'flip-flop', 'flirts', 'float', 'floating', 'floats', 'flood', 'floor', 'flop', 'floppy', 'florid', 'flourish', 'flourishes', 'flow', 'flowering', 'flowers', 'flows', 'fluent', 'fluff', 'fluffy', 'fluid', 'fluke', 'fly', 'flying', 'focus', 'focused', 'focuses', 'foibles', 'folk', 'folks', 'follow', 'follow-up', 'followed', 'following', 'follows', 'folly', 'fondly', 'fondness', 'food', 'fool', 'foolish', 'footage', 'footnote', 'for', 'forbidden', 'force', 'forced', 'forceful', 'forcefully', 'forcefulness', 'forces', 'forcing', 'fore', 'forefront', 'foreign', 'foremost', 'forever', 'forges', 'forget', 'forgets', 'forgettable', 'forgettably', 'forgivable', 'forgive', 'forgiven', 'forgiveness', 'forgoes', 'forgotten', 'fork', 'form', 'formal', 'format', 'formed', 'former', 'formidable', 'forms', 'formula', 'formulaic', 'forsaken', 'forte', 'forth', 'forthright', 'forum', 'forward', 'foster', 'fosters', 'foul', 'found', 'foundation', 'founders', 'four', 'four-star', 'fourteen-year', 'fourth', 'fragile', 'fragmentary', 'fragmented', 'frailty', 'frame', 'framed', 'frames', 'framework', 'franchise', 'frank', 'frankly', 'frantic', 'freaky', 'free', 'freedom', 'freely', 'freight', 'frenetic', 'frenzy', 'frequent', 'frequently', 'fresh', 'fresh-faced', 'fresh-squeezed', 'freshening', 'freshly', 'freshness', 'friend', 'friendly', 'friends', 'friendship', 'friendships', 'fright', 'frighten', 'frightening', 'frighteningly', 'fringes', 'frissons', 'frolic', 'from', 'front', 'front-loaded', 'frontman', 'frothy', 'frozen', 'frustrating', 'frustratingly', 'frustration', 'fu', 'fulfill', 'fulfilling', 'full', 'full-bodied', 'fully', 'fumbles', 'fun', 'fun-for-fun', 'function', 'functions', 'fundamentally', 'funnier', 'funniest', 'funny', 'funnybone', 'furiously', 'further', 'fury', 'fused', 'fuss', 'futile', 'future', 'futuristic', 'fuzzy', 'gadgets', 'gag', 'gags', 'gaiety', 'gain', 'gained', 'gaining', 'gamble', 'game', 'games', 'gang', 'gang-infested', 'gangster', 'gap', 'gaps', 'garbage', 'garde', 'gas', 'gasp', 'gasping', 'gates', 'gaudy', 'gave', 'gay', 'gaze', 'gear', 'geared', 'gel', 'gem', 'gender', 'general', 'generalities', 'generally', 'generate', 'generated', 'generates', 'generating', 'generation', 'generations', 'generic', 'generosity', 'generous', 'genial', 'genitals', 'genius', 'genre', 'genres', 'genteel', 'gentility', 'gentle', 'gently', 'genuine', 'genuinely', 'geriatric', 'get', 'gets', 'getting', 'ghetto', 'ghost', 'ghosts', 'ghoulish', 'giant', 'giddy', 'gift', 'gifted', 'gifts', 'giggles', 'gimmick', 'gimmicky', 'girl', 'girl-meets-girl', 'girls', 'give', 'given', 'gives', 'giving', 'glamour', 'glancing', 'glaring', 'glass', 'glasses', 'gleaned', 'glee', 'gleefully', 'glib', 'gliding', 'glimmer', 'glimpse', 'glimpses', 'glitz', 'globe', 'gloomy', 'glorified', 'glorious', 'gloriously', 'glory', 'gloss', 'glossy', 'gluing', 'glum', 'glumly', 'go', 'goal', 'goals', 'goers', 'goes', 'going', 'gold', 'golf', 'gone', 'gong', 'gonna', 'good', 'good-bad', 'good-hearted', 'good-looking', 'good-natured', 'good-naturedness', 'goodies', 'goodness', 'goods', 'goodwill', 'goofball', 'goofiest', 'goofiness', 'goofy', 'goose', 'goose-pimple', 'gore', 'gored', 'gorgeous', 'gorgeously', 'gory', 'gossip', 'got', 'gothic', 'gotten', 'gourmet', 'grab', 'grace', 'graceful', 'gracefully', 'graceless', 'grade', 'grade-school', 'gradually', 'grain', 'grand', 'grandeur', 'grandiosity', 'grandly', 'grandmother', 'grandstanding', 'graphic', 'grasp', 'gratefully', 'grating', 'gratingly', 'gratuitous', 'grave', 'gravity', 'great', 'great-grandson', 'greater', 'greatest', 'greatest-hits', 'greatly', 'greatness', 'greedy', 'green', 'grenade', 'grew', 'grief', 'grieving', 'grim', 'grimace', 'grin', 'grind', 'grinder', 'grinning', 'gripping', 'grips', 'grisly', 'grit', 'gritty', 'groove', 'gross', 'gross-out', 'grossly', 'grotesque', 'ground', 'grounded', 'group', 'groups', 'grow', 'growing', 'grown', 'grown-up', 'grown-ups', 'grownups', 'grows', 'growth', 'grub', 'grumble', 'grumbling', 'guarantee', 'guaranteed', 'guarded', 'guess', 'guessed', 'guessing', 'guest', 'guffaw', 'guide', 'guilt', 'guilty', 'guilty-pleasure', 'guise', 'guitar', 'gun', 'gunfire', 'gunplay', 'guns', 'guru', 'gusto', 'gut', 'gut-wrenching', 'guts', 'guy', 'guys', 'ha', 'hack', 'hackneyed', 'had', 'hair', 'hairs', 'half', 'half-bad', 'half-baked', 'half-hearted', 'half-hour', 'half-sleep', 'halfway', 'hallmark', 'hallmarks', 'hallucinatory', 'ham', 'ham-fisted', 'hammer', 'hammy', 'hampered', 'hand', 'handed', 'handful', 'handle', 'handled', 'handles', 'handling', 'hands', 'handsome', 'handsomely', 'hang', 'hanging', 'haphazard', 'haphazardness', 'happen', 'happened', 'happening', 'happens', 'happily', 'happily-ever', 'happiness', 'happy', 'harangues', 'hard', 'hard-bitten', 'hard-edged', 'hard-hearted', 'hard-hitting', 'hard-to-predict', 'hard-won', 'hardened', 'harder', 'hardhearted', 'hardly', 'hardy', 'harm', 'harmless', 'harrowing', 'harsh', 'has', 'has-been', 'hastily', 'hate', 'hates', 'hatred', 'haul', 'haunted', 'haunting', 'have', 'having', 'havoc', 'he', 'head', 'headbanger', 'headed', 'heads', 'heady', 'heal', 'healing', 'health', 'healthy', 'hear', 'heard', 'hearing', 'hears', 'heart', 'heart-breaking', 'heart-felt', 'heart-wrenching', 'heartache', 'heartbreak', 'heartbreaking', 'heartbreakingly', 'heartening', 'heartfelt', 'hearts', 'heartwarming', 'heat', 'heated', 'heaven', 'heavily', 'heavy', 'heavy-handed', 'hedonistic', 'heft', 'hefty', 'heightened', 'heights', 'heist', 'held', 'hell', 'hell-bent', 'hellish', 'helm', 'helmer', 'help', 'helped', 'helping', 'helps', 'her', 'here', 'heritage', 'hermetic', 'hero', 'heroes', 'heroic', 'heroine', 'herring', 'herself', 'hey', 'heyday', 'hidden', 'hide', 'hidebound', 'hideously', 'hideousness', 'hiding', 'high', 'high-concept', 'high-minded', 'high-octane', 'high-profile', 'high-tech', 'higher', 'highest', 'highlight', 'highly', 'highs', 'highway', 'hilarious', 'hilariously', 'hilarity', 'him', 'himself', 'hindered', 'hinge', 'hint', 'hip', 'hip-hop', 'hipness', 'hippie', 'his', 'historic', 'historical', 'historically', 'history', 'histrionics', 'hit', 'hit-and-miss', 'hit-man', 'hits', 'hitting', 'hoary', 'hodgepodge', 'hokey', 'hokum', 'hold', 'holding', 'holds', 'hole', 'holes', 'holiday', 'holistic', 'hollow', 'homage', 'homages', 'home', 'homes', 'homosexuality', 'honest', 'honestly', 'honesty', 'honor', 'honorable', 'hook', 'hooked', 'hoot', 'hop', 'hope', 'hoped', 'hopeful', 'hopefully', 'hopeless', 'hopelessly', 'hopes', 'hoping', 'horrible', 'horribly', 'horrifying', 'horror', 'horrors', 'horse', 'horses', 'host', 'hot', 'hot-button', 'hotel', 'hour', 'hour-and-a-half', 'hourlong', 'hours', 'house', 'households', 'houses', 'housing', 'hovering', 'how', 'however', 'howler', 'hug', 'huge', 'hugely', 'human', 'humane', 'humanism', 'humanistic', 'humanity', 'humanizing', 'humanly', 'humans', 'humble', 'humdrum', 'humility', 'humming', 'humor', 'humorless', 'humorous', 'humorously', 'humour', 'hundred', 'hurt', 'hurts', 'husband', 'huskies', 'hustler', 'hybrid', 'hype', 'hyped', 'hypertime', 'hypnotic', 'hypocritical', 'hysterics', 'i.e.', 'ice', 'icon', 'iconoclastic', 'icy', 'idea', 'ideal', 'idealism', 'idealistic', 'ideas', 'identity', 'idiocy', 'idiosyncratic', 'idiotic', 'idiots', 'if', 'ignite', 'ignore', 'ignored', 'ilk', 'ill', 'ill-conceived', 'ill-fitting', 'illness', 'illogic', 'illogical', 'illuminate', 'illuminates', 'illuminating', 'illusion', 'illustrated', 'illustrates', 'illustrating', 'image', 'imagery', 'images', 'imaginable', 'imagination', 'imaginative', 'imagine', 'imagined', 'imagines', 'imbued', 'imitating', 'imitation', 'immaculate', 'immature', 'immediacy', 'immediate', 'immediately', 'immensely', 'immersed', 'immigrant', 'immortal', 'impact', 'impart', 'impeccable', 'impenetrable', 'imperfection', 'impersonal', 'impersonation', 'implausibility', 'implausible', 'implies', 'imply', 'import', 'importance', 'important', 'importantly', 'impossible', 'impossibly', 'impress', 'impressed', 'impression', 'impressions', 'impressive', 'impressively', 'improbable', 'improve', 'improved', 'improvement', 'improves', 'improvisation', 'improvised', 'impulse', 'impulses', 'impulsive', 'in', 'in-depth', 'in-jokes', 'inability', 'inadvertently', 'inane', 'inappropriate', 'inauthentic', 'incapable', 'incessant', 'incident', 'incisive', 'inclination', 'include', 'included', 'includes', 'including', 'incoherence', 'incoherent', 'incompetent', 'incomprehensible', 'incongruous', 'inconsequential', 'inconsistencies', 'inconsistent', 'incorporate', 'incorporates', 'increase', 'increasingly', 'incredible', 'incredibly', 'incurably', 'indecipherable', 'indeed', 'independent', 'indication', 'indicative', 'indictment', 'indie', 'indifference', 'indifferent', 'individual', 'individuals', 'indoors', 'induces', 'indulgence', 'indulgent', 'industry', 'inelegant', 'inept', 'ineptly', 'inert', 'inertia', 'inescapable', 'inevitable', 'inevitably', 'inexperienced', 'inexplicable', 'inexplicably', 'infantile', 'infectious', 'infectiously', 'inferior', 'infidelity', 'infinitely', 'influence', 'influenced', 'infomercial', 'information', 'informative', 'informed', 'infuriating', 'infused', 'infuses', 'infusion', 'ingenious', 'ingeniously', 'ingenuity', 'ingratiating', 'ingredients', 'inhabit', 'inherent', 'inherently', 'inhuman', 'inimitable', 'initial', 'inject', 'injects', 'injuries', 'inner', 'inner-city', 'innocence', 'innocent', 'innocuous', 'innovation', 'innovations', 'innovative', 'innuendo', 'inoffensive', 'inquiry', 'inquisitive', 'inquisitiveness', 'ins', 'insane', 'insanely', 'insanity', 'insecure', 'insecurity', 'inside', 'insider', 'insight', 'insightful', 'insightfully', 'insights', 'insignificance', 'insipid', 'insistence', 'insistent', 'insistently', 'insists', 'inspiration', 'inspirational', 'inspire', 'inspired', 'inspires', 'inspiring', 'installment', 'instance', 'instantly', 'instead', 'instigator', 'instinct', 'instincts', 'institution', 'insufferable', 'insult', 'insulting', 'insultingly', 'insults', 'insurance', 'intact', 'integrated', 'integrity', 'intellect', 'intellectual', 'intellectually', 'intellectuals', 'intelligence', 'intelligent', 'intelligently', 'intended', 'intense', 'intensely', 'intensity', 'intent', 'intentional', 'intentionally', 'intentioned', 'intentions', 'inter-racial', 'interaction', 'interest', 'interested', 'interesting', 'interestingly', 'interests', 'interference', 'interfering', 'interminable', 'intermittently', 'international', 'interpersonal', 'interplay', 'interpret', 'interpretation', 'interpretations', 'interrogation', 'intervention', 'interview', 'interviewees', 'interviews', 'intimacy', 'intimate', 'into', 'intolerable', 'intoxicating', 'intoxication', 'intractable', 'intrepid', 'intricate', 'intricately', 'intrigue', 'intrigued', 'intriguing', 'intro', 'introduce', 'introduces', 'introducing', 'introduction', 'introspective', 'introverted', 'intrusive', 'invaluable', 'invasion', 'invented', 'invention', 'inventive', 'inventiveness', 'invest', 'investigate', 'investment', 'invited', 'inviting', 'invitingly', 'involve', 'involved', 'involving', 'irksome', 'ironic', 'ironically', 'ironies', 'irony', 'irrational', 'irrelevancy', 'irrelevant', 'irrepressible', 'irresistible', 'irresistibly', 'irresponsible', 'irreversible', 'irritating', 'is', 'isolation', 'issue', 'issues', 'it', 'its', 'itself', 'ivans', 'jaded', 'jagged', 'jar', 'jarring', 'jaw-droppingly', 'jazz-playing', 'jazzy', 'jealousy', 'jell', 'jerking', 'jettisoned', 'job', 'joie', 'joins', 'joke', 'jokes', 'jolly', 'jolt', 'jolts', 'jostles', 'journalism', 'journalist', 'journalistic', 'journalists', 'journey', 'joy', 'joyless', 'joyous', 'joys', 'judge', 'judgment', 'judicious', 'juice', 'juicy', 'jumble', 'jumbled', 'jumbo', 'jump', 'jumps', 'junior', 'junk', 'junkie', 'just', 'justice', 'justify', 'juvenile', 'juxtaposition', 'keen', 'keep', 'keeping', 'keeps', 'kept', 'key', 'kibbitzes', 'kick', 'kicking', 'kicks', 'kid', 'kid-pleasing', 'kiddie', 'kiddies', 'kidlets', 'kids', 'kids-and-family-oriented', 'kill', 'killed', 'killer', 'killing', 'kind', 'kinda', 'kinds', 'kinetic', 'kinky', 'kiss', 'kitchen', 'kitsch', 'kitschy', 'kitten', 'knack', 'knee-jerk', 'knew', 'knock', 'knockout', 'know', 'knowing', 'knowledge', 'known', 'knows', 'knucklehead', 'kooky', 'label', 'labor', 'labored', 'laborious', 'labour', 'labyrinthine', 'lack', 'lacking', 'lackluster', 'lacks', 'ladder', 'lady', 'laid', 'laid-back', 'lake', 'lame', 'land', 'landmark', 'landscape', 'landscapes', 'language', 'languid', 'languorous', 'lapses', 'large', 'large-frame', 'largely', 'larger', 'larger-than-life', 'lark', 'larky', 'last', 'last-minute', 'lasting', 'late', 'late-night', 'lately', 'later', 'latest', 'latter', 'laudable', 'laugh', 'laugh-a-minute', 'laugh-out-loud', 'laughable', 'laughably', 'laughed', 'laughing', 'laughs', 'laughter', 'launch', 'launching', 'lavish', 'law', 'laws', 'lay', 'layer', 'layered', 'layers', 'lazy', 'le', 'lead', 'leaden', 'leading', 'leads', 'leaks', 'leaky', 'lean', 'leap', 'leaping', 'leaps', 'learn', 'learned', 'learning', 'learns', 'leash', 'least', 'leather', 'leave', 'leavened', 'leaves', 'leaving', 'lecherous', 'lectures', 'left', 'legacy', 'legal', 'legend', 'legendary', 'lend', 'lending', 'lends', 'length', 'lengths', 'lengthy', 'lens', 'leonine', 'less', 'lessen', 'lesser', 'lesson', 'lessons', 'let', 'letdown', 'lethargic', 'lets', 'letter', 'letting', 'level', 'levels', 'levity', 'liability', 'liberal', 'liberating', 'liberation', 'liberties', 'libertine', 'librarian', 'license', 'lie', 'lies', 'life', 'life-affirming', 'lifeless', 'lifestyle', 'lifetime', 'lift', 'lifted', 'lifts', 'light', 'light-hearted', 'lighthearted', 'lighting', 'lightly', 'lightness', 'lights', 'lightweight', 'likable', 'like', 'like-themed', 'likeable', 'liked', 'likely', 'likes', 'liking', 'limbs', 'limitations', 'limited', 'limits', 'limp', 'line', 'lines', 'lingering', 'lingers', 'linking', 'lint', 'list', 'listen', 'listening', 'listless', 'lit', 'literal', 'literally', 'literary', 'literate', 'literature', 'litmus', 'littered', 'little', 'little-known', 'little-remembered', 'live', 'live-action', 'lived', 'lively', 'lives', 'living', 'lo', 'load', 'loaded', 'loads', 'loathe', 'loathsome', 'lobby', 'local', 'locales', 'locations', 'lodging', 'lofty', 'log', 'logic', 'logical', 'loneliest', 'loneliness', 'lonely', 'long', 'long-faced', 'long-lived', 'long-suffering', 'longer', 'longing', 'longtime', 'look', 'looked', 'looking', 'looks', 'loop', 'loopholes', 'loopy', 'loose', 'loosely', 'loquacious', 'lore', 'lose', 'losers', 'loses', 'losing', 'loss', 'lost', 'lot', 'lots', 'loud', 'lousy', 'lovable', 'love', 'loveable', 'loved', 'lovely', 'lover', 'lovers', 'loves', 'loving', 'low', 'low-budget', 'low-grade', 'low-key', 'low-rent', 'lowbrow', 'lower', 'lower-class', 'lows', 'loyal', 'loyalty', 'luck', 'luckiest', 'lucks', 'lucky', 'lucratively', 'ludicrous', 'lulls', 'lumbering', 'lump', 'lumps', 'lunacy', 'lunatic', 'lunch', 'lurid', 'luridly', 'lurking', 'lush', 'lust', 'luster', 'lying', 'lyrical', 'lyricism', 'macabre', 'machine', 'machinery', 'machines', 'machismo', 'maddeningly', 'made', 'made-for-TV', 'made-up', 'madmen', 'madness', 'maggots', 'magic', 'magical', 'magnetic', 'magnificent', 'main', 'mainly', 'mainstream', 'maintain', 'maintained', 'maintaining', 'maintains', 'majestic', 'major', 'majority', 'make', 'maker', 'makers', 'makes', 'makeup', 'making', 'maladjusted', 'malaise', 'male', 'male-ridden', 'males', 'mall', 'man', 'manage', 'managed', 'manages', 'manhood', 'manic', 'manifesto', 'manipulation', 'manipulative', 'mankind', 'manner', 'mannered', 'mannerisms', 'manners', 'manufactured', 'many', 'map', 'mar', 'marching', 'margin', 'marginal', 'marginally', 'mark', 'marked', 'market', 'markets', 'marking', 'marks', 'marquis', 'marred', 'marriage', 'married', 'marry', 'mars', 'martial', 'marvel', 'marvelous', 'marvelously', 'masculine', 'masochism', 'masquerade', 'masses', 'massive', 'master', 'masterful', 'masterfully', 'masterpeice', 'masterpiece', 'match', 'matches', 'material', 'maternal', 'matinee', 'matron', 'matter', 'matters', 'mature', 'maudlin', 'mawkish', 'maxim', 'maximum', 'may', 'maybe', 'mayhem', 'maze', 'me', 'meal', 'mean', 'mean-spirited', 'meandering', 'meanders', 'meaning', 'meaningful', 'meaningless', 'means', 'meant', 'measure', 'measured', 'meat', 'meaty', 'mechanical', 'mechanics', 'meddles', 'media', 'media-soaked', 'medical', 'medicine', 'mediocre', 'mediocrity', 'meditation', 'meditative', 'medium', 'meet', 'meets', 'megaplex', 'mein', 'melancholia', 'melancholic', 'melancholy', 'melodrama', 'melodramas', 'melodramatic', 'melt', 'melted', 'member', 'members', 'memoir', 'memorable', 'memorial', 'memories', 'memory', 'men', 'menace', 'menacing', 'mental', 'mentally', 'mention', 'mercilessly', 'mercy', 'mere', 'merely', 'merge', 'mergers', 'merges', 'merit', 'merits', 'merrily', 'meshes', 'mesmerize', 'mesmerizing', 'mess', 'message', 'messages', 'messiness', 'messing', 'messy', 'metal', 'metaphor', 'metaphorical', 'metaphors', 'method', 'metropolitan', 'mettle', 'mid', 'middle', 'middle-aged', 'middle-agers', 'middle-class', 'middle-of-the-road', 'middling', 'midlife', 'midnight', 'midst', 'midway', 'might', 'mild', 'mild-mannered', 'mildly', 'mile', 'milestones', 'milieu', 'military', 'milk', 'mill', 'million', 'millions', 'mimics', 'mind', 'mind-numbingly', 'minded', 'mindless', 'minds', 'mine', 'minimal', 'minimalist', 'minimum', 'minor', 'minus', 'minute', 'minutes', 'minutiae', 'miracle', 'miraculous', 'mired', 'misanthropic', 'miscalculation', 'misdemeanor', 'miserable', 'misery', 'misfire', 'misfortune', 'misguided', 'mishmash', 'misogyny', 'miss', 'missed', 'misses', 'missing', 'mission', 'mistake', 'mistakes', 'mix', 'mixed', 'mixed-up', 'mixes', 'mixing', 'mixture', 'moaning', 'mob', 'mobility', 'mockumentary', 'modeled', 'moderately', 'modern', 'modern-day', 'modernize', 'modest', 'modestly', 'modesty', 'modus', 'moist', 'moment', 'moments', 'momentum', 'money', 'money-oriented', 'monologue', 'monotonous', 'monster', 'monsters', 'monstrous', 'months', 'monument', 'monumental', 'mood', 'moodiness', 'moods', 'moody', 'moral', 'moralistic', 'morality', 'moralizing', 'morally', 'morbid', 'more', 'mores', 'morning', 'moron', 'moronic', 'most', 'mostly', 'mother', 'mother\\\\/daughter', 'motherhood', 'mothers', 'motion', 'motions', 'motivated', 'motivation', 'motivations', 'motives', 'mountain', 'mounted', 'mournful', 'mouth', 'move', 'moved', 'movement', 'movements', 'moves', 'movie', 'movie-going', 'movie-making', 'movie-of-the-week', 'movie-star', 'moviegoer', 'moviegoers', 'moviegoing', 'moviemakers', 'moviemaking', 'movies', 'moving', 'much', 'mud', 'muddle', 'muddled', 'muddy', 'mug', 'mugging', 'mugs', 'multi-character', 'multiple', 'multiplex', 'mumbo', 'mundane', 'murder', 'murderer', 'murk', 'murky', 'muscles', 'muse', 'mush', 'mushy', 'music', 'musical', 'musicals', 'musicians', 'musings', 'must', 'must-own', 'must-see', 'muster', 'musty', 'muted', 'my', 'myself', 'mysteries', 'mysterious', 'mystery', 'mystical', 'mystique', 'myth', 'mythic', \"n't\", 'nail-biter', 'nails', 'naive', 'naked', 'name', 'named', 'namely', 'names', 'namesake', 'narcissism', 'narcissistic', 'narcotized', 'narrated', 'narration', 'narrative', 'narratively', 'narrator', 'narrow', 'nary', 'nasty', 'nation', 'national', 'nationalism', 'nationally', 'nationwide', 'natural', 'naturalism', 'naturalistic', 'naturally', 'nature', 'natured', 'naughty', 'near', 'near-masterpiece', 'nearly', 'neat', 'neatly', 'necessarily', 'necessary', 'neck', 'need', 'needed', 'needlessly', 'needs', 'needy', 'negativity', 'neglecting', 'negligible', 'negotiate', 'neighborhood', 'neither', 'neo-Augustinian', 'neo-fascism', 'neorealism', 'nerve', 'nerves', 'nervous', 'nervy', 'net', 'network', 'neurosis', 'neutral', 'never', 'nevertheless', 'new', 'newcomer', 'newcomers', 'newfangled', 'news', 'newsreels', 'next', 'nice', 'nicely', 'nicest', 'niche', 'nifty', 'night', 'nightmare', 'nightmarish', 'nimble', 'ninety', 'no', 'no-brainer', 'no-frills', 'no-holds-barred', 'no-nonsense', 'no.', 'nobility', 'noble', 'nobody', 'nod', 'noir', 'noise', 'nomination', 'non-firsthand', 'non-stop', 'non-threatening', 'nonchalant', 'nonconformist', 'nonconformity', 'none', 'nonetheless', 'nonexistent', 'nonjudgmental', 'nonsense', 'nonsensical', 'nonstop', 'nor', 'normally', 'normative', 'nose', 'nostalgia', 'nostalgic', 'not', 'notable', 'notably', 'notch', 'notches', 'note', 'notes', 'nothing', 'notice', 'noticeably', 'noticing', 'notion', 'notorious', 'notwithstanding', 'nourishing', 'novel', 'novels', 'now', 'nowhere', 'nuance', 'nuanced', 'nuances', 'nuclear', 'nudity', 'number', 'numbered', 'numbers', 'numbing', 'numbingly', 'numerous', 'nutty', 'object', 'objective', 'objectivity', 'objects', 'obligatory', 'obnoxious', 'obscure', 'observant', 'observation', 'observations', 'observe', 'observed', 'obsession', 'obsessions', 'obsessive', 'obstacles', 'obvious', 'obviously', 'obviousness', 'occasional', 'occasionally', 'occupation', 'occupied', 'occur', 'occurrences', 'occurs', 'ocean', 'odd', 'oddest', 'oddity', 'oddly', 'odds', 'ode', 'odyssey', 'of', 'off', 'off-beat', 'off-kilter', 'off-putting', 'offbeat', 'offend', 'offensive', 'offer', 'offering', 'offerings', 'offers', 'office', 'often', 'often-cute', 'often-funny', 'oh', \"ol'\", 'old', 'old-fashioned', 'old-hat', 'old-school', 'old-time', 'older', 'ominous', 'omnibus', 'omniscient', 'on', 'on-camera', 'on-screen', 'once', 'one', 'one-dimensional', 'one-hour', 'one-liners', 'one-night', 'one-note', 'one-of-a-kind', 'one-room', 'one-sided', 'ones', 'only', 'onscreen', 'onto', 'oozing', 'opaque', 'open', 'open-ended', 'open-faced', 'opened', 'opening', 'openly', 'openness', 'opens', 'opera', 'opera-ish', 'operandi', 'operas', 'operates', 'opinion', 'opportunities', 'opportunity', 'opposed', 'opposite', 'oppressive', 'oppressively', 'optic', 'optimism', 'optimistic', 'option', 'opts', 'or', 'oral', 'ordeal', 'order', 'ordinary', 'organic', 'orgy', 'original', 'originality', 'origins', 'other', 'otherness', 'others', 'otherwise', 'otherworldly', 'ought', 'our', 'ours', 'ourselves', 'out', 'out-depress', 'out-outrage', 'out-shock', 'outbursts', 'outcome', 'outdated', 'outer', 'outgag', 'outing', 'outlandish', 'outline', 'outrage', 'outrageous', 'outright', 'outs', 'outside', 'outsiders', 'outstanding', 'outtakes', 'outweighs', 'over', 'over-dramatic', 'over-the-top', 'overall', 'overbearing', 'overblown', 'overboard', 'overcome', 'overcomes', 'overcooked', 'overexposed', 'overkill', 'overlong', 'overlook', 'overlooked', 'overly', 'overly-familiar', 'overmanipulative', 'overproduced', 'overrun', 'oversized', 'overstated', 'overstuffed', 'overtake', 'overtly', 'overture', 'overused', 'overview', 'overwhelm', 'overwhelmed', 'overwhelming', 'overwhelms', 'overwritten', 'overwrought', 'owe', 'owes', 'own', 'ownership', 'pablum', 'pace', 'paced', 'pacing', 'pack', 'package', 'packed', 'pad', 'padded', 'padding', 'paean', 'page', 'paid', 'pain', 'painful', 'painfully', 'paint', 'paint-by-number', 'paint-by-numbers', 'painted', 'painterly', 'painting', 'paintings', 'paints', 'pair', 'pairing', 'palatable', 'pale', 'palette', 'palpable', 'panache', 'pander', 'pandering', 'panoramic', 'pantheon', 'pants', 'paper', 'paper-thin', 'par', 'parable', 'parade', 'paradoxically', 'parallel', 'parallels', 'paranoia', 'paranoid', 'parapsychological', 'parent', 'parent-child', 'parental', 'parents', 'park', 'parking', 'parlor', 'parochial', 'parody', 'parrot', 'parsec', 'part', 'participants', 'participatory', 'particular', 'particularly', 'partly', 'partner', 'partners', 'partnerships', 'parts', 'party', 'party-hearty', 'pass', 'passable', 'passably', 'passages', 'passed', 'passes', 'passing', 'passion', 'passionate', 'passions', 'past', 'paste', 'pastiche', 'pastry', 'pat', 'path', 'pathetic', 'pathetically', 'pathology', 'pathos', 'pathos-filled', 'patience', 'patient', 'patriotic', 'patronizing', 'pause', 'pay', 'payback', 'paying', 'payoff', 'pays', 'peace', 'peak', 'peculiar', 'pedestal', 'pedestrian', 'pedigree', 'pee-related', 'peek', 'penance', 'penchant', 'penetrating', 'people', 'peppered', 'per', 'perceptive', 'perfect', 'perfection', 'perfectly', 'perform', 'performance', 'performances', 'performed', 'performer', 'performers', 'performing', 'perfunctory', 'perhaps', 'perils', 'period', 'permeates', 'permits', 'perpetrated', 'perpetual', 'perseverance', 'person', 'persona', 'personal', 'personalities', 'personality', 'perspective', 'persuasive', 'pertinent', 'pervasive', 'perverse', 'perversity', 'pesky', 'pessimistic', 'phenomena', 'phenomenal', 'philosophical', 'philosophy', 'phone', 'phones', 'phoniness', 'phony', 'photographed', 'photographic', 'photographs', 'photography', 'photos', 'phrase', 'physical', 'physically', 'physics', 'physique', 'piano', 'pic', 'picaresque', 'pick', 'picked', 'pickup', 'picnic', 'picture', 'picture-perfect', 'pictures', 'piece', 'pieces', 'piercing', 'piffle', 'pile', 'pileup', 'pill', 'pilot', 'pink', 'pinnacle', 'pit', 'pitch', 'pitch-perfect', 'pitched', 'pitfalls', 'pitiful', 'pitifully', 'pitted', 'pity', 'place', 'placed', 'placement', 'places', 'placid', 'placing', 'plain', 'plainly', 'plan', 'plane', 'planet', 'plate', 'plateau', 'platter', 'play', 'played', 'player', 'players', 'playful', 'playing', 'plays', 'playwright', 'playwriting', 'pleasant', 'pleasantly', 'please', 'pleased', 'pleaser', 'pleasing', 'pleasingly', 'pleasurable', 'pleasure', 'pleasures', 'plenty', 'plethora', 'plight', 'plod', 'plodding', 'ploddingly', 'plot', 'plotless', 'plotline', 'plots', 'plotted', 'plotting', 'plucking', 'plucky', 'plug', 'plumbs', 'plummets', 'plus', 'poem', 'poet', 'poetic', 'poetry', 'poignancy', 'poignant', 'point', 'point-of-view', 'pointed', 'pointless', 'points', 'pokes', 'pokey', 'polemic', 'polemical', 'police', 'policy', 'polished', 'political', 'politically', 'politics', 'pollution', 'pomposity', 'ponder', 'ponderous', 'pool', 'poor', 'poorly', 'pop', 'pop-induced', 'popcorn', 'popular', 'popularity', 'populated', 'population', 'pore', 'pork', 'porn', 'pornography', 'porridge', 'portions', 'portrait', 'portraiture', 'portray', 'portrayal', 'portrayed', 'portraying', 'portrays', 'poses', 'posing', 'positive', 'positively', 'possess', 'possesses', 'possibilities', 'possibility', 'possible', 'possibly', 'post', 'post-camp', 'post-feminist', 'post-production', 'postcard', 'poster', 'posthumously', 'postmodern', 'posturing', 'potboiler', 'potency', 'potent', 'potential', 'potentially', 'potshots', 'poverty', 'power', 'powered', 'powerful', 'powerfully', 'powers', 'practically', 'practice', 'practices', 'practitioners', 'praises', 'pratfalls', 'pre-WWII', 'preaching', 'preachy', 'precarious', 'preceded', 'precedent', 'precious', 'precise', 'precisely', 'precision', 'predecessor', 'predecessors', 'predicament', 'predict', 'predictability', 'predictable', 'predictably', 'predisposed', 'predominantly', 'preemptive', 'prefer', 'pregnant', 'prehistoric', 'premise', 'preoccupations', 'preordained', 'prep-school', 'prepare', 'preposterous', 'preposterousness', 'prescient', 'prescription', 'presence', 'present', 'presentation', 'presented', 'presenting', 'presents', 'president', 'press', 'pressed', 'preteen', 'pretence', 'pretends', 'pretension', 'pretensions', 'pretentious', 'pretty', 'prevail', 'prevails', 'prevent', 'prevents', 'preview', 'previous', 'prey', 'price', 'priceless', 'pride', 'prim', 'prima', 'primal', 'primarily', 'primary', 'prime', 'primitive', 'princess', 'princesses', 'principal', 'principals', 'prism', 'prison', 'pristine', 'private', 'privileged', 'pro', 'probably', 'probe', 'probes', 'probing', 'problem', 'problematic', 'problems', 'procedure', 'proceedings', 'proceeds', 'process', 'processed', 'procession', 'processor', 'prod', 'produce', 'produced', 'producer', 'producers', 'producing', 'product', 'production', 'productions', 'profane', 'profanity', 'profession', 'professional', 'professionals', 'proficient', 'proficiently', 'profile', 'profound', 'profoundly', 'program', 'progression', 'project', 'projects', 'prolonged', 'promenade', 'prominently', 'promise', 'promised', 'promises', 'promising', 'promisingly', 'pronounce', 'proof', 'propaganda', 'propelled', 'proper', 'properly', 'proportions', 'prose', 'prospect', 'protagonist', 'protagonists', 'protect', 'proud', 'prove', 'proved', 'proven', 'proves', 'provide', 'provided', 'provides', 'providing', 'proving', 'provocations', 'provocative', 'provoke', 'prurient', 'psyche', 'psychedelia', 'psychedelic', 'psychic', 'psycho', 'psychodrama', 'psychological', 'psychologically', 'psychology', 'psychopathic', 'puberty', 'public', 'publicity', 'published', 'publishing', 'puerile', 'puff', 'pulchritude', 'pull', 'pulled', 'pulling', 'pulls', 'pulp', 'pulpiness', 'pulpy', 'pulse', 'pummel', 'pun', 'punch', 'punches', 'punching', 'punchy', 'punctuated', 'pungent', 'punishment', 'punk', 'punny', 'puppet', 'pure', 'purely', 'purists', 'purity', 'purportedly', 'purpose', 'purposefully', 'purposeless', 'purposes', 'pursuing', 'push', 'pushed', 'pushes', 'pushing', 'put', 'putrid', 'puts', 'putting', 'puzzle', 'puzzling', 'pyrotechnics', 'quaint', 'qualify', 'qualities', 'quality', 'quarter', 'queasy', 'queasy-stomached', 'queen', 'queens', 'quest', 'question', 'questionable', 'questioning', 'questions', 'quick', 'quick-witted', 'quickie', 'quickly', 'quiet', 'quieter', 'quietly', 'quintessentially', 'quirkiness', 'quirks', 'quirky', 'quite', 'quivering', 'quixotic', 'race', 'races', 'racial', 'racing', 'racism', 'racist', 'radar', 'radiant', 'radiates', 'radical', 'rage', 'ragged', 'raging', 'rah-rah', 'rails', 'rain', 'rainbow', 'raise', 'raised', 'raises', 'rally', 'rambling', 'rampant', 'random', 'randomness', 'range', 'rank', 'ranks', 'rap', 'rape', 'rapid', 'rapid-fire', 'rapidly', 'rappers', 'rapt', 'rare', 'rarely', 'rarity', 'rate', 'rates', 'rather', 'rating', 'rattling', 'raucous', 'raucously', 'raunch', 'raunchy', 'ravishing', 'raw', 'razor-sided', 'razzle-dazzle', 'reach', 'reached', 'reaches', 'reaching', 'react', 'reacting', 'reaction', 'reactionary', 'read', 'readily', 'reading', 'ready', 'reaffirms', 'real', 'real-life', 'real-time', 'realism', 'realistic', 'realistically', 'realities', 'reality', 'realization', 'realize', 'realized', 'realizes', 'realizing', 'really', 'realm', 'reason', 'reasonable', 'reasonably', 'reasons', 'reassuring', 'rebel', 'rebellion', 'recalls', 'receive', 'received', 'receives', 'receiving', 'recent', 'recently', 'recessive', 'recipe', 'recite', 'recklessness', 'recognizable', 'recognize', 'recommend', 'recommendation', 'recommended', 'reconciled', 'reconstruction', 'record', 'recording', 'records', 'recount', 'recovery', 'recreates', 'recreating', 'recycle', 'recycled', 'recycles', 'recycling', 'red', 'redeeming', 'redeems', 'redefinition', 'redemption', 'rediscover', 'redone', 'reduce', 'reduced', 'reduces', 'reductive', 'redundancy', 'redundant', 'redux', 'reefs', 'reel', 'reenacting', 'references', 'referred', 'refined', 'reflect', 'reflection', 'reflections', 'reflective', 'reflects', 'refresh', 'refreshed', 'refreshing', 'refreshingly', 'refugee', 'refugees', 'refusal', 'refuse', 'refuses', 'regain', 'regalia', 'regard', 'regarding', 'regardless', 'regards', 'regimen', 'region', 'regret', 'rehash', 'rehashes', 'rejected', 'relate', 'relating', 'relationship', 'relationships', 'relative', 'relatively', 'relaxed', 'relays', 'release', 'released', 'relegated', 'relentless', 'relentlessly', 'relevance', 'relevant', 'reliable', 'reliance', 'relic', 'relief', 'relies', 'religion', 'religious', 'reluctant', 'rely', 'relying', 'remain', 'remaining', 'remains', 'remake', 'remakes', 'remarkable', 'remarkably', 'remember', 'remembered', 'remembering', 'remembrance', 'remind', 'reminded', 'reminder', 'reminding', 'reminds', 'reminiscent', 'remote', 'remotely', 'removed', 'rendered', 'rendering', 'rendition', 'renowned', 'rent', 'rental', 'repartee', 'repeated', 'repeatedly', 'repellent', 'repetition', 'repetitive', 'replaced', 'replete', 'report', 'represented', 'represents', 'repressed', 'repulsive', 'reputation', 'reputedly', 'require', 'required', 'requirement', 'requires', 'requisite', 'rerun', 'reruns', 'rescue', 'research', 'resemblance', 'resemble', 'resembles', 'resembling', 'resentment', 'reserved', 'reshaping', 'reside', 'resist', 'resistance', 'resolutely', 'resolution', 'resolutions', 'resonance', 'resonant', 'resonate', 'resorting', 'resorts', 'resourceful', 'respect', 'respectable', 'respite', 'respond', 'responses', 'responsibility', 'responsible', 'rest', 'restored', 'restoring', 'restrained', 'restraint', 'restroom', 'rests', 'result', 'results', 'retains', 'retaliation', 'retaliatory', 'retelling', 'retooled', 'retooling', 'retread', 'retro', 'return', 'returning', 'returns', 'reunion', 'reveal', 'revealed', 'revealing', 'reveals', 'revel', 'revelation', 'revelations', 'revelatory', 'revels', 'revenge', 'reverence', 'reverent', 'review', 'reviews', 'revisionist', 'revisiting', 'revolution', 'revolutionary', 'revulsion', 'rewarded', 'rewarding', 'rewards', 'reworking', 'rewritten', 'rez', 'rhetoric', 'rhythm', 'rhythms', 'rich', 'richer', 'richly', 'richness', 'ride', 'ridicule', 'ridiculous', 'ridiculousness', 'riffs', 'right', 'right-thinking', 'right-wing', 'rigid', 'rigor', 'rigors', 'ring', 'rings', 'ringside', 'riot', 'rip', 'rip-off', 'rip-roaring', 'ripe', 'ripping', 'rise', 'rise-and-fall', 'rises', 'rising', 'risk', 'risks', 'risky', 'rival', 'rivalry', 'river', 'riveted', 'riveting', 'road', 'road-trip', 'robust', 'rock', 'rock-solid', 'rocket', 'rocks', 'roiling', 'role', 'roles', 'roll', 'rollicking', 'rolling', 'rolls', 'romance', 'romances', 'romantic', 'romp', 'romped', 'ron', 'room', 'rooms', 'root', 'rooted', 'rooting', 'roots', 'rose-colored', 'rote', 'rotten', 'rough', 'roughshod', 'round', 'rounded', 'rousing', 'route', 'routine', 'routines', 'row', 'rowdy', 'royals', 'rude', 'rudimentary', 'rueful', 'rug', 'rugrats', 'ruin', 'ruined', 'ruins', 'rules', 'rumination', 'run', 'run-of-the-mill', 'running', 'runs', 'rush', 'rushed', 'rusted-out', 'rustic', 'rut', 'ruthless', 's', 'sabotaged', 'saccharine', 'sack', 'sacrifice', 'sacrificed', 'sacrifices', 'sacrificing', 'sad', 'sadism', 'sadistic', 'sadly', 'sadness', 'safe', 'sag', 'saga', 'said', 'sake', 'salute', 'same', 'same-sex', 'samurai', 'sanctimonious', 'sanctimony', 'sand', 'sandwich', 'sane', 'sanguine', 'sap', 'sappy', 'sardonic', 'sassy', 'satire', 'satiric', 'satirical', 'satisfactory', 'satisfied', 'satisfies', 'satisfy', 'satisfying', 'satisfyingly', 'saucy', 'savage', 'save', 'saved', 'saves', 'saving', 'savor', 'savour', 'savvy', 'saw', 'say', 'saying', 'says', 'scalds', 'scale', 'scandal', 'scandals', 'scarcely', 'scare', 'scared', 'scares', 'scarier', 'scariest', 'scarifying', 'scary', 'scathing', 'scathingly', 'scattered', 'scenario', 'scene', 'scenery', 'scenes', 'scenic', 'schemes', 'schizophrenia', 'schlocky', 'schmaltz', 'schmaltzy', 'school', 'schools', 'sci-fi', 'science', 'science-fiction', 'scientific', 'scientist', 'scientists', 'scope', 'score', 'scored', 'scores', 'scorn', 'scrapbook', 'scratching', 'scream', 'screaming', 'screams', 'screen', 'screening', 'screenings', 'screenplay', 'screenplays', 'screens', 'screenwriter', 'screenwriters', 'screenwriting', 'screwball', 'screwed-up', 'scribe', 'script', 'scripted', 'scripting', 'scripts', 'scriptwriters', 'scruffy', 'scrutiny', 'sea', 'seal', 'sealed', 'seams', 'seamy', 'search', 'searches', 'searching', 'searing', 'seas', 'season', 'seasonal', 'seasoned', 'seat', 'seater', 'seats', 'second', 'secondary', 'secondhand', 'seconds', 'secret', 'secrets', 'section', 'seduce', 'seductive', 'see', 'seeing', 'seek', 'seeking', 'seeks', 'seem', 'seemed', 'seeming', 'seemingly', 'seems', 'seen', 'sees', 'seesawing', 'segment', 'selection', 'self', 'self-absorption', 'self-aware', 'self-awareness', 'self-caricature', 'self-congratulation', 'self-conscious', 'self-consciously', 'self-consciousness', 'self-deprecating', 'self-destructive', 'self-discovery', 'self-esteem', 'self-glorification', 'self-hatred', 'self-importance', 'self-important', 'self-indulgence', 'self-indulgent', 'self-mutilation', 'self-parody', 'self-preservation', 'self-referential', 'self-reflection', 'self-revealing', 'self-satisfied', 'sell', 'seller', 'selling', 'selves', 'semi-stable', 'send', 'sending', 'sends', 'sensational', 'sensationalism', 'sense', 'senses', 'sensibilities', 'sensibility', 'sensitive', 'sensitivity', 'sensual', 'sensuality', 'sensuous', 'sent', 'sentence', 'sentiment', 'sentimental', 'sentimentality', 'sentimentalizing', 'sentiments', 'separate', 'separation', 'sequel', 'sequels', 'sequence', 'sequences', 'serenity', 'serial', 'series', 'serious', 'serious-minded', 'seriously', 'seriousness', 'sermon', 'serpent', 'servants', 'serve', 'served', 'serves', 'service', 'serviceable', 'serving', 'sessions', 'set', 'set-up', 'setpieces', 'sets', 'setting', 'settle', 'settled', 'settles', 'setup', 'setups', 'seven', 'several', 'severe', 'severely', 'sex', 'sexiness', 'sexism', 'sexist', 'sexual', 'sexuality', 'sexually', 'sexy', 'shabby', 'shades', 'shadow', 'shadows', 'shadowy', 'shaggy', 'shake', 'shaken', 'shakes', 'shaking', 'shallow', 'sham', 'shame', 'shameful', 'shameless', 'shamelessly', 'shape', 'shaped', 'shapeless', 'shapely', 'share', 'shared', 'sharing', 'sharp', 'sharper', 'shattering', 'shatters', 'she', 'shedding', 'sheer', 'sheerly', 'sheets', 'shelf', 'shell', 'shenanigans', 'shift', 'shifting', 'shimmering', 'shine', 'shines', 'shining', 'ship', 'shock', 'shocked', 'shocker', 'shockers', 'shocking', 'shockingly', 'shocks', 'shoddy', 'shoot', 'shooting', 'shootings', 'shoots', 'shop', 'shopping', 'short', 'shortage', 'shortcomings', 'shorter', 'shortness', 'shorts', 'shot', 'shots', 'should', 'shoulders', 'shout', 'show', 'show-stoppingly', 'showcase', 'showcases', 'showdown', 'shower', 'showing', 'shown', 'shows', 'showy', 'shred', 'shrewd', 'shrill', 'shrugging', 'shtick', 'shut', 'sibling', 'sick', 'sickening', 'sickeningly', 'sickly', 'side', 'sides', 'sidesplitting', 'sight', 'sights', 'sign', 'signals', 'significance', 'significant', 'significantly', 'signpost', 'signposts', 'signs', 'silent', 'sillier', 'silliness', 'silly', 'silver', 'silver-haired', 'similar', 'similarly', 'simmering', 'simple', 'simple-minded', 'simpleminded', 'simplicity', 'simplistic', 'simply', 'simultaneously', 'sin', 'since', 'sincere', 'sincerity', 'sing', 'singer', 'singers', 'singing', 'single', 'single-handedly', 'single-minded', 'singularly', 'sinister', 'sink', 'sinks', 'siren', 'sister', 'sisterhood', 'sisterly', 'sisters', 'sit', 'sitcom', 'sits', 'sitting', 'situation', 'situations', 'six', 'sixties-style', 'size', 'sizzle', 'skateboard', 'skateboarding', 'sketch', 'sketchy', 'skewed', 'skies', 'skill', 'skillful', 'skillfully', 'skills', 'skims', 'skin', 'skinny', 'skip', 'skittish', 'slack', 'slam-bang', 'slam-dunk', 'slap', 'slap-happy', 'slapdash', 'slapping', 'slapstick', 'slasher', 'slather', 'slathered', 'sleazy', 'sledgehammer', 'sleep', 'sleeper', 'sleeping', 'sleeve', 'slender', 'slew', 'slice', 'slick', 'slickness', 'slide', 'slight', 'slightest', 'slightly', 'slip', 'slipperiness', 'slippery', 'slivers', 'slo-mo', 'slog', 'slope', 'sloppily', 'sloppy', 'slovenly', 'slow', 'slow-moving', 'slowly', 'sluggish', 'sly', 'slyly', 'smack', 'smacks', 'small', 'small-budget', 'small-scale', 'small-town', 'smaller', 'smart', 'smart-aleck', 'smarter', 'smartest', 'smartly', 'smarts', 'smash', 'smile', 'smiles', 'smiling', 'smirk', 'smoky', 'smooth', 'smoother', 'smoothly', 'smug', 'smugly', 'snake', 'snap', 'snappy', 'snaps', 'snapshot', 'snared', 'sneaks', 'sneaky', 'sneeze', 'snooze', 'snore', 'snow', 'so', 'so-bad-it', 'so-called', 'so-so', 'soap', 'soap-opera', 'soaper', 'soar', 'soars', 'sobering', 'soccer', 'social', 'society', 'sociological', 'sociology', 'soft', 'soggy', 'solace', 'soldiers', 'solely', 'solemn', 'solemnity', 'solid', 'solidly', 'soliloquies', 'solutions', 'solving', 'somber', 'some', 'somebody', 'someday', 'somehow', 'someone', 'someplace', 'something', 'sometimes', 'somewhat', 'somewhere', 'son', 'song', 'songs', 'sons', 'soon', 'sooner', 'sophisticated', 'sophistication', 'sophomore', 'sophomoric', 'sordid', 'sorely', 'sorrow', 'sorry', 'sort', 'sorts', 'soufflé', 'soul', 'soul-searching', 'soulful', 'soulless', 'souls', 'sound', 'sounding', 'sounds', 'soundtrack', 'sour', 'source', 'sources', 'southern', 'space', 'spaces', 'spaceship', 'span', 'spangle', 'spanning', 'spans', 'spare', 'spark', 'sparkles', 'sparkling', 'sparks', 'sparse', 'speak', 'speaking', 'speaks', 'special', 'specific', 'specifically', 'specimen', 'spectacle', 'spectacular', 'spectacularly', 'spectator', 'spectrum', 'speculation', 'speculative', 'spell', 'spellbinding', 'spend', 'spends', 'spent', 'spice', 'spiced', 'spider', 'spiffy', 'spiked', 'spin', 'spine', 'spinning', 'spins', 'spiral', 'spirit', 'spirited', 'spirits', 'spiritual', 'spirituality', 'spite', 'spits', 'splash', 'splashed', 'splendid', 'splendor', 'splitting', 'spontaneity', 'spontaneous', 'spoof', 'spook-a-rama', 'spookiness', 'spooky', 'sporadic', 'sport', 'sports', 'sportsmen', 'spot', 'spotlight', 'spotlights', 'spots', 'spousal', 'spouses', 'spread', 'spree', 'sprightly', 'spring', 'springing', 'sprinkled', 'sprouts', 'sprung', 'spy', 'squad', 'squander', 'squandering', 'squanders', 'square', 'squarely', 'squareness', 'squeeze', 'stable-full', 'stacked', 'stage', 'staged', 'stages', 'stagey', 'staggered', 'staggeringly', 'stagy', 'staircase', 'stake', 'stale', 'stalker', 'stamina', 'stammers', 'stamp', 'stance', 'stand', 'stand-up', 'standard', 'standards', 'stands', 'standup', 'star', 'star-making', 'star-power', 'star-studded', 'stardom', 'stare', 'staring', 'stark', 'starring', 'stars', 'start', 'started', 'starting', 'startling', 'starts', 'stasis', 'state', 'stately', 'static', 'station', 'status', 'stay', 'staying', 'stays', 'steady', 'steal', 'steals', 'steaming', 'steamy', 'steeped', 'steers', 'step', 'stepdad', 'stepmom', 'stepped', 'stereotype', 'stereotypes', 'stereotypical', 'sterling', 'stew', 'stick', 'sticking', 'sticks', 'sticky', 'stiff', 'stifling', 'still', 'still-inestimable', 'stillborn', 'stilted', 'stimulate', 'stimulating', 'stimulus', 'sting', 'stinker', 'stinks', 'stirring', 'stirs', 'stitched', 'stock', 'stoked', 'stolid', 'stomach', 'stomach-turning', 'stones', 'stooping', 'stoops', 'stop', 'stopped', 'stops', 'store', 'stores', 'stories', 'storm', 'story', 'storyline', 'storylines', 'storyteller', 'storytellers', 'storytelling', 'straight', 'straight-ahead', 'straight-up', 'straightforward', 'strain', 'strained', 'straining', 'strains', 'strands', 'strange', 'strangely', 'strangeness', 'stranger', 'strategic', 'strategy', 'streak', 'stream', 'streamed', 'street', 'street-smart', 'strength', 'strengths', 'strenuously', 'stress-reducing', 'stretch', 'stretched', 'stretches', 'strict', 'strictly', 'strike', 'strikes', 'striking', 'string', 'strings', 'strip', 'stripe', 'stripped-down', 'strives', 'stroke', 'strokes', 'strong', 'stronger', 'strongest', 'strongly', 'struck', 'structure', 'structured', 'struggle', 'struggled', 'struggles', 'struggling', 'strung-together', 'stuck', 'student', 'students', 'studio', 'study', 'stuff', 'stuffed', 'stuffiest', 'stultifying', 'stumble', 'stumbles', 'stunning', 'stunningly', 'stunt', 'stunts', 'stupid', 'stupidity', 'sturm', 'stuttering', 'style', 'styles', 'stylings', 'stylish', 'stylishly', 'stylist', 'stylistic', 'stylists', 'stylized', 'sub', 'subconscious', 'subculture', 'subgenre', 'subject', 'subjects', 'sublime', 'sublimely', 'submarine', 'subplot', 'subplots', 'subscription', 'substance', 'substantial', 'substitute', 'substitutes', 'subtext', 'subtitled', 'subtitles', 'subtle', 'subtler', 'subtlest', 'subtlety', 'subtly', 'suburban', 'subversive', 'succeed', 'succeeded', 'succeeds', 'success', 'successes', 'successful', 'successfully', 'successor', 'succumb', 'succumbing', 'succumbs', 'such', 'suck', 'sucked', 'sucker', 'sucker-punch', 'sucks', 'sudden', 'suddenly', 'sudsy', 'suffer', 'suffered', 'suffering', 'suffers', 'sufficient', 'sufficiently', 'suffocating', 'sugar', 'sugarcoated', 'sugary', 'suggest', 'suggested', 'suggesting', 'suggestion', 'suggestive', 'suggests', 'suit', 'suitable', 'suitably', 'suited', 'suits', 'sum', 'summer', 'summertime', 'sumptuous', 'sun', 'sun-drenched', 'sung', 'super', 'super-sized', 'superb', 'superbly', 'superficial', 'superficiality', 'superficially', 'superfluous', 'superhero', 'superior', 'superman', 'supernatural', 'superstar', 'supply', 'support', 'supporting', 'supposed', 'supremely', 'sure', 'sure-fire', 'surefire', 'surely', 'surest', 'surf', 'surface', 'surfeit', 'surfing', 'surprise', 'surprised', 'surprises', 'surprising', 'surprisingly', 'surreal', 'surrealism', 'surrealistic', 'surrender', 'surrenders', 'surround', 'surrounded', 'surrounding', 'surroundings', 'surveys', 'survival', 'survive', 'survived', 'surviving', 'survivors', 'suspect', 'suspected', 'suspend', 'suspended', 'suspense', 'suspenseful', 'sustain', 'sustained', 'sustains', 'swallow', 'sway', 'swear', 'sweat', 'sweaty-palmed', 'sweeping', 'sweet', 'sweet-and-sour', 'sweetheart', 'sweetly', 'sweetness', 'swept', 'swill', 'swim', 'swingers', 'swinging', 'swings', 'switch', 'switches', 'swooning', 'swooping', 'sword', 'symbolic', 'symbolism', 'symbols', 'sympathetic', 'sympathies', 'sympathy', 'synthetic', 'system', 'sytle', 't', 'table', 'taboo', 'tackles', 'tackling', 'tacky', 'tagline', 'tailor', 'take', 'taken', 'takes', 'taking', 'tale', 'talent', 'talented', 'talents', 'tales', 'talk', 'talking', 'talks', 'talky', 'tall', 'tame', 'tangents', 'tangled', 'tanks', 'tap', 'tapestry', 'tapping', 'taps', 'tarantula', 'target', 'targeted', 'tart', 'task', 'taste', 'tasteful', 'tasteless', 'tastelessness', 'tasty', 'tattered', 'tatters', 'taught', 'taut', 'tawdry', 'tax', 'tea', 'teach', 'teacher', 'teachers', 'team', 'tear', 'tear-stained', 'tearing', 'tearjerker', 'tears', 'teasing', 'technical', 'technically', 'technique', 'technological', 'technology', 'tedious', 'tediously', 'teeming', 'teen', 'teen-pop', 'teenage', 'teenagers', 'teens', 'teeth', 'telegraphed', 'telemarketers', 'telescope', 'television', 'tell', 'telling', 'tells', 'temptation', 'temptations', 'tempting', 'ten', 'tenacious', 'tend', 'tendencies', 'tendency', 'tendentious', 'tender', 'tenderness', 'tends', 'tenor', 'tense', 'tension', 'tensions', 'tepid', 'term', 'terminally', 'terms', 'terrible', 'terribly', 'terrific', 'terrifically', 'terrifying', 'territory', 'terror', 'terrorism', 'terrorist', 'terrorists', 'test', 'testament', 'testimony', 'text', 'textbook', 'texture', 'than', 'than-likely', 'thank', 'thankfully', 'thanks', 'that', 'the', 'theater', 'theaters', 'theatre', 'theatres', 'theatrical', 'theatrics', 'their', 'them', 'thematic', 'thematically', 'theme', 'themed', 'themes', 'themselves', 'then', 'theology', 'theories', 'theory', 'therapy', 'there', 'therefore', 'these', 'thesis', 'they', 'thick', 'thin', 'thing', 'things', 'think', 'thinking', 'thinks', 'thinly', 'thinness', 'third', 'thirst', 'thirty', 'this', 'thorough', 'thoroughly', 'those', 'though', 'thought', 'thought-provoking', 'thoughtful', 'thoughtfully', 'thoughtfulness', 'thousand', 'thousands', 'threadbare', 'threat', 'threatened', 'threatens', 'three', 'three-dimensional', 'three-hour', 'threshold', 'threw', 'thrill', 'thriller', 'thrillers', 'thrilling', 'thrills', 'thrives', 'through', 'through-line', 'throughout', 'throw', 'throwaway', 'throwback', 'throwing', 'thrown', 'throws', 'thrust', 'thrusts', 'thumbs', 'thunderous', 'tick', 'ticket', 'tickets', 'ticking', 'ties', 'tight', 'tightrope', 'time', 'timeless', 'timely', 'times', 'timid', 'timing', 'tinge', 'tiniest', 'tinseltown', 'tiny', 'tired', 'tiresome', 'tiresomely', 'tissue-thin', 'tissues', 'tit-for-tat', 'title', 'titled', 'titles', 'titular', 'to', 'today', 'toes', 'together', 'toilet', 'told', 'tolerable-to-adults', 'tolerance', 'tolerate', 'tomorrow', 'tonal', 'tone', 'tones', 'tongue', 'tongue-in-cheek', 'tongue-tied', 'tons', 'too', 'too-conscientious', 'took', 'tool', 'tooth', 'toothless', 'top', 'top-billed', 'top-notch', 'topic', 'topical', 'topics', 'topless', 'tops', 'tormented', 'torn', 'torture', 'tortured', 'toss', 'tossed', 'tosses', 'total', 'totalitarian', 'totally', 'touch', 'touched', 'touches', 'touching', 'tough', 'tough-man', 'tougher', 'tour', 'toward', 'towards', 'towering', 'town', 'toxic', 'trace', 'traced', 'traces', 'track', 'tract', 'trademark', 'tradition', 'traditional', 'traditionally', 'traditions', 'traffic', 'tragedies', 'tragedy', 'tragic', 'tragically', 'trailer', 'train', 'traits', 'transcend', 'transcendent', 'transcends', 'transformation', 'transformed', 'transforms', 'transgressive', 'transition', 'translate', 'translation', 'transparent', 'transporting', 'transports', 'trap', 'trapped', 'trappings', 'trash', 'trashy', 'travails', 'travel', 'travesty', 'treading', 'treads', 'treasure', 'treat', 'treated', 'treatise', 'treatment', 'treats', 'trees', 'trembling', 'tremendous', 'tremendously', 'trenchant', 'trial', 'triangle', 'tribute', 'trick', 'tricks', 'tricky', 'tried', 'tries', 'trifle', 'trilogy', 'trimming', 'trimmings', 'trip', 'tripe', 'trite', 'triumph', 'triumphant', 'triumphantly', 'triumphs', 'tropes', 'trots', 'trotting', 'trouble', 'trounce', 'truck', 'true', 'truly', 'trust', 'truth', 'truthful', 'try', 'trying', 'tub', 'tucked', 'tug', 'tumult', 'tumultuous', 'tundra', 'tune', 'tuned', 'tunes', 'tuning', 'turbulent', 'turd', 'turf', 'turgid', 'turkey', 'turmoil', 'turn', 'turned', 'turning', 'turns', 'twaddle', 'tweaked', 'twelve', 'twenty-first', 'twice', 'twist', 'twisted', 'twisting', 'twists', 'two', 'two-dimensional', 'two-hour', 'two-thirds', 'type', 'types', 'typical', 'ugliness', 'ugly', 'uh', 'ultimate', 'ultimately', 'ultra-provincial', 'ultra-violent', 'unabashed', 'unabashedly', 'unable', 'unacceptable', 'unadulterated', 'unaffected', 'unapologetic', 'unappealing', 'unashamedly', 'unassuming', 'unbearable', 'unbearably', 'unbelievable', 'unblinking', 'unbridled', 'uncanny', 'uncertain', 'uncertainties', 'uncharted', 'unchecked', 'uncinematic', 'uncluttered', 'uncomfortable', 'uncomfortably', 'uncommonly', 'uncompromising', 'unconditional', 'unconned', 'unconventional', 'unconvincing', 'und', 'undead', 'undemanding', 'undeniable', 'undeniably', 'under', 'under-inspired', 'underappreciated', 'underbelly', 'undercurrent', 'undercut', 'undercuts', 'underdog', 'underdogs', 'underestimated', 'underlay', 'underlines', 'underlying', 'undermines', 'undermining', 'underneath', 'undernourished', 'underscore', 'understand', 'understanding', 'understands', 'understated', 'undiminished', 'undistinguished', 'undone', 'undoubtedly', 'uneasily', 'uneasy', 'unendurable', 'uneven', 'uneventful', 'unexamined', 'unexceptional', 'unexpected', 'unexpectedly', 'unexplainable', 'unfamiliar', 'unfilmable', 'unflappable', 'unflinching', 'unfocused', 'unfolding', 'unfolds', 'unforced', 'unforgettable', 'unforgivingly', 'unfortunate', 'unfortunately', 'unfulfilled', 'unfulfilling', 'unfunny', 'unhappy', 'unholy', 'unhurried', 'uniformly', 'unimaginable', 'unimaginative', 'unimpressive', 'uninhibited', 'uninspired', 'unintentional', 'unintentionally', 'uninteresting', 'uninvolving', 'unique', 'uniquely', 'unit', 'units', 'universal', 'universe', 'unknowable', 'unknown', 'unleashed', 'unleashes', 'unless', 'unlikable', 'unlike', 'unlikely', 'unlimited', 'unmemorable', 'unmentionable', 'unmistakable', 'unnatural', 'unnecessary', 'unnerving', 'unnoticed', 'unoriginal', 'unorthodox', 'unpersuasive', 'unpleasant', 'unprecedented', 'unpredictable', 'unprepared', 'unpretentious', 'unreachable', 'unrealized', 'unrelenting', 'unrelentingly', 'unreligious', 'unremarkable', 'unrewarding', 'unruly', 'unsatisfied', 'unsatisfying', 'unsentimental', 'unsettling', 'unslick', 'unspool', 'unsubtle', 'unsuccessful', 'unsung', 'unsurprising', 'unsuspecting', 'unsympathetic', 'untalented', 'unthinkable', 'until', 'unturned', 'unusual', 'unusually', 'unwary', 'unwatchable', 'up', 'upbeat', 'update', 'updated', 'updating', 'updatings', 'upends', 'uplifting', 'upon', 'upper', 'upping', 'ups', 'upscale', 'upsetting', 'urban', 'urbane', 'urge', 'urgency', 'urgent', 'urgently', 'us', 'use', 'used', 'useless', 'uses', 'using', 'usual', 'usually', 'utilizes', 'utilizing', 'utter', 'utterly', 'vacuum', 'vague', 'vaguely', 'vain', 'valiant', 'valiantly', 'valid', 'valuable', 'value', 'values', 'vampire', 'vampires', 'van', 'vanity', 'vapid', 'variation', 'variety', 'various', 'varying', 'vast', 'vastly', 'vat', 'vaudeville', 'veers', 'vehicle', 'vein', 'veins', 'veneer', 'venture', 'verbal', 'verbally', 'verdict', 'verge', 'verges', 'verse', 'version', 'versions', 'versus', 'verve', 'very', 'veteran', 'veterans', 'via', 'vibe', 'vibrance', 'vibrant', 'vicious', 'victim', 'victimized', 'victims', 'victories', 'video', 'videos', 'videotape', 'view', 'viewed', 'viewer', 'viewers', 'viewing', 'views', 'vigils', 'vignettes', 'vile', 'villain', 'villainous', 'villains', 'vintage', 'violence', 'violent', 'virtually', 'virtue', 'virtues', 'virtuosity', 'virtuous', 'visceral', 'viscerally', 'visible', 'vision', 'visionary', 'visions', 'visit', 'visitor', 'vistas', 'visual', 'visually', 'visuals', 'vital', 'vitality', 'vivid', 'vividly', 'vivre', 'vocalized', 'voice', 'voice-over', 'voices', 'volatile', 'volume', 'von', 'voting', 'voyeuristic', 'vs.', 'vu', 'vulgar', 'vulgarity', 'vulnerability', 'vulnerable', 'wacky', 'wait', 'waited', 'waiting', 'waits', 'wake', 'walk', 'walked', 'walking', 'walking-dead', 'walks', 'wall', 'wallet', 'wallop', 'wallowing', 'walls', 'wander', 'wanes', 'wannabe', 'want', 'wanted', 'wanting', 'wanton', 'wants', 'war', 'war-torn', 'warfare', 'warm', 'warm-blooded', 'warmed', 'warmth', 'warned', 'warning', 'wars', 'wartime', 'was', 'washed', 'waste', 'wasted', 'wastes', 'watch', 'watchable', 'watches', 'watching', 'water', 'waterlogged', 'waters', 'wave', 'waves', 'way', 'waydowntown', 'ways', 'wayward', 'we', 'weak', 'weaknesses', 'wealth', 'weaponry', 'wear', 'wearing', 'wears', 'weary', 'weave', 'weaves', 'weaving', 'web', 'website', 'wedding', 'week', 'weeks', 'weep', 'weepy', 'weighs', 'weight', 'weightless', 'weighty', 'weird', 'weirdly', 'weirdness', 'weirdo', 'welcome', 'well', 'well-acted', 'well-balanced', 'well-constructed', 'well-contructed', 'well-crafted', 'well-deserved', 'well-developed', 'well-directed', 'well-done', 'well-executed', 'well-formed', 'well-intentioned', 'well-made', 'well-meaning', 'well-paced', 'well-realized', 'well-written', 'went', 'were', 'wet', 'whale', 'what', 'what-if', 'whatever', 'whatsoever', 'when', 'whence', 'whenever', 'where', 'wherein', 'wherever', 'whether', 'which', 'while', 'whimper', 'whimsical', 'whimsicality', 'whimsy', 'whiny', 'whippersnappers', 'whipping', 'whirlwind', 'whit', 'white', 'who', 'who-wrote-Shakespeare', 'whodunit', 'whole', 'wholesome', 'wholly', 'whom', 'whose', 'why', 'wicked', 'wickedly', 'wide', 'widely', 'widescreen', 'widget', 'widow', 'wife', 'wild', 'wildly', 'will', 'willing', 'willingness', 'wills', 'win', 'wind', 'winded', 'window', 'windows', 'winds', 'winner', 'winners', 'winning', 'wins', 'winter', 'wire', 'wireless', 'wisdom', 'wise', 'wisely', 'wiser', 'wish', 'wishing', 'wispy', 'wistful', 'wit', 'witch', 'with', 'within', 'without', 'witless', 'witness', 'witnessed', 'witnesses', 'witty', 'wizened', 'wo', 'woefully', 'woman', 'women', 'won', 'wonder', 'wondered', 'wonderful', 'wonderfully', 'wondering', 'wonders', 'wondrous', 'wondrously', 'wooden', 'woods', 'word', 'words', 'wore', 'work', 'work-in-progress', 'worked', 'worker', 'workers', 'working', 'working-class', 'workout', 'workplace', 'works', 'world', 'worm', 'worn', 'worn-out', 'worries', 'worry', 'worrying', 'worse', 'worshipful', 'worst', 'worth', 'worthwhile', 'worthy', 'would', 'would-be', 'wound', 'wounds', 'woven', 'wow', 'wrapped', 'wreak', 'wreck', 'wrenching', 'wrestling', 'wrinkles', 'writer', 'writer-director', 'writer\\\\/director', 'writers', 'writing', 'written', 'wrong', 'wrote', 'wry', 'wryly', 'xtc', 'yarn', 'yawning', 'year', 'year-end', 'yearning', 'years', 'yellow', 'yes', 'yesterday', 'yesteryear', 'yet', 'yields', 'you', 'young', 'younger', 'youngsters', 'your', 'yourself', 'yourselves', 'youth', 'youthful', 'zany', 'zeal', 'zero', 'zingers', 'zings', 'zippy', 'zombie', 'zone']\n"
     ]
    },
    {
     "name": "stderr",
     "output_type": "stream",
     "text": [
      "Finished epoch 43 of 50; error is 2.3387552648782734"
     ]
    },
    {
     "ename": "KeyboardInterrupt",
     "evalue": "",
     "output_type": "error",
     "traceback": [
      "\u001b[0;31m---------------------------------------------------------------------------\u001b[0m",
      "\u001b[0;31mKeyboardInterrupt\u001b[0m                         Traceback (most recent call last)",
      "\u001b[0;32m<ipython-input-9-4a50c1859ee4>\u001b[0m in \u001b[0;36m<module>\u001b[0;34m\u001b[0m\n\u001b[1;32m      4\u001b[0m     \u001b[0mfit_rnn_classifier\u001b[0m\u001b[0;34m,\u001b[0m\u001b[0;34m\u001b[0m\u001b[0;34m\u001b[0m\u001b[0m\n\u001b[1;32m      5\u001b[0m     \u001b[0mvectorize\u001b[0m\u001b[0;34m=\u001b[0m\u001b[0;32mFalse\u001b[0m\u001b[0;34m,\u001b[0m  \u001b[0;31m# For deep learning, use `vectorize=False`.\u001b[0m\u001b[0;34m\u001b[0m\u001b[0;34m\u001b[0m\u001b[0m\n\u001b[0;32m----> 6\u001b[0;31m     assess_reader=sst.dev_reader)\n\u001b[0m",
      "\u001b[0;32m~/Documents/machine_learning_source/stanford/cs224u_nlu_spring_2019/cs224u/sst.py\u001b[0m in \u001b[0;36mexperiment\u001b[0;34m(sst_home, phi, train_func, train_reader, assess_reader, train_size, class_func, score_func, vectorize, verbose, random_state)\u001b[0m\n\u001b[1;32m    285\u001b[0m         \u001b[0mX_assess\u001b[0m\u001b[0;34m,\u001b[0m \u001b[0my_assess\u001b[0m \u001b[0;34m=\u001b[0m \u001b[0massess\u001b[0m\u001b[0;34m[\u001b[0m\u001b[0;34m'X'\u001b[0m\u001b[0;34m]\u001b[0m\u001b[0;34m,\u001b[0m \u001b[0massess\u001b[0m\u001b[0;34m[\u001b[0m\u001b[0;34m'y'\u001b[0m\u001b[0;34m]\u001b[0m\u001b[0;34m\u001b[0m\u001b[0;34m\u001b[0m\u001b[0m\n\u001b[1;32m    286\u001b[0m     \u001b[0;31m# Train:\u001b[0m\u001b[0;34m\u001b[0m\u001b[0;34m\u001b[0m\u001b[0;34m\u001b[0m\u001b[0m\n\u001b[0;32m--> 287\u001b[0;31m     \u001b[0mmod\u001b[0m \u001b[0;34m=\u001b[0m \u001b[0mtrain_func\u001b[0m\u001b[0;34m(\u001b[0m\u001b[0mX_train\u001b[0m\u001b[0;34m,\u001b[0m \u001b[0my_train\u001b[0m\u001b[0;34m)\u001b[0m\u001b[0;34m\u001b[0m\u001b[0;34m\u001b[0m\u001b[0m\n\u001b[0m\u001b[1;32m    288\u001b[0m     \u001b[0;31m# Predictions:\u001b[0m\u001b[0;34m\u001b[0m\u001b[0;34m\u001b[0m\u001b[0;34m\u001b[0m\u001b[0m\n\u001b[1;32m    289\u001b[0m     \u001b[0mpredictions\u001b[0m \u001b[0;34m=\u001b[0m \u001b[0mmod\u001b[0m\u001b[0;34m.\u001b[0m\u001b[0mpredict\u001b[0m\u001b[0;34m(\u001b[0m\u001b[0mX_assess\u001b[0m\u001b[0;34m)\u001b[0m\u001b[0;34m\u001b[0m\u001b[0;34m\u001b[0m\u001b[0m\n",
      "\u001b[0;32m<ipython-input-8-3a343b3af740>\u001b[0m in \u001b[0;36mfit_rnn_classifier\u001b[0;34m(X, y)\u001b[0m\n\u001b[1;32m     13\u001b[0m         \u001b[0mbidirectional\u001b[0m\u001b[0;34m=\u001b[0m\u001b[0;32mTrue\u001b[0m\u001b[0;34m,\u001b[0m\u001b[0;34m\u001b[0m\u001b[0;34m\u001b[0m\u001b[0m\n\u001b[1;32m     14\u001b[0m         hidden_activation=nn.ReLU())\n\u001b[0;32m---> 15\u001b[0;31m     \u001b[0mmod\u001b[0m\u001b[0;34m.\u001b[0m\u001b[0mfit\u001b[0m\u001b[0;34m(\u001b[0m\u001b[0mX\u001b[0m\u001b[0;34m,\u001b[0m \u001b[0my\u001b[0m\u001b[0;34m)\u001b[0m\u001b[0;34m\u001b[0m\u001b[0;34m\u001b[0m\u001b[0m\n\u001b[0m\u001b[1;32m     16\u001b[0m     \u001b[0;32mreturn\u001b[0m \u001b[0mmod\u001b[0m\u001b[0;34m\u001b[0m\u001b[0;34m\u001b[0m\u001b[0m\n",
      "\u001b[0;32m~/Documents/machine_learning_source/stanford/cs224u_nlu_spring_2019/cs224u/torch_rnn_classifier.py\u001b[0m in \u001b[0;36mfit\u001b[0;34m(self, X, y, **kwargs)\u001b[0m\n\u001b[1;32m    244\u001b[0m                 \u001b[0;31m# Backprop:\u001b[0m\u001b[0;34m\u001b[0m\u001b[0;34m\u001b[0m\u001b[0;34m\u001b[0m\u001b[0m\n\u001b[1;32m    245\u001b[0m                 \u001b[0mself\u001b[0m\u001b[0;34m.\u001b[0m\u001b[0mopt\u001b[0m\u001b[0;34m.\u001b[0m\u001b[0mzero_grad\u001b[0m\u001b[0;34m(\u001b[0m\u001b[0;34m)\u001b[0m\u001b[0;34m\u001b[0m\u001b[0;34m\u001b[0m\u001b[0m\n\u001b[0;32m--> 246\u001b[0;31m                 \u001b[0merr\u001b[0m\u001b[0;34m.\u001b[0m\u001b[0mbackward\u001b[0m\u001b[0;34m(\u001b[0m\u001b[0;34m)\u001b[0m\u001b[0;34m\u001b[0m\u001b[0;34m\u001b[0m\u001b[0m\n\u001b[0m\u001b[1;32m    247\u001b[0m                 \u001b[0mself\u001b[0m\u001b[0;34m.\u001b[0m\u001b[0mopt\u001b[0m\u001b[0;34m.\u001b[0m\u001b[0mstep\u001b[0m\u001b[0;34m(\u001b[0m\u001b[0;34m)\u001b[0m\u001b[0;34m\u001b[0m\u001b[0;34m\u001b[0m\u001b[0m\n\u001b[1;32m    248\u001b[0m             \u001b[0;31m# Incremental predictions where possible:\u001b[0m\u001b[0;34m\u001b[0m\u001b[0;34m\u001b[0m\u001b[0;34m\u001b[0m\u001b[0m\n",
      "\u001b[0;32m~/anaconda3/envs/cs224u/lib/python3.7/site-packages/torch/tensor.py\u001b[0m in \u001b[0;36mbackward\u001b[0;34m(self, gradient, retain_graph, create_graph)\u001b[0m\n\u001b[1;32m    196\u001b[0m                 \u001b[0mproducts\u001b[0m\u001b[0;34m.\u001b[0m \u001b[0mDefaults\u001b[0m \u001b[0mto\u001b[0m\u001b[0;31m \u001b[0m\u001b[0;31m`\u001b[0m\u001b[0;31m`\u001b[0m\u001b[0;32mFalse\u001b[0m\u001b[0;31m`\u001b[0m\u001b[0;31m`\u001b[0m\u001b[0;34m.\u001b[0m\u001b[0;34m\u001b[0m\u001b[0;34m\u001b[0m\u001b[0m\n\u001b[1;32m    197\u001b[0m         \"\"\"\n\u001b[0;32m--> 198\u001b[0;31m         \u001b[0mtorch\u001b[0m\u001b[0;34m.\u001b[0m\u001b[0mautograd\u001b[0m\u001b[0;34m.\u001b[0m\u001b[0mbackward\u001b[0m\u001b[0;34m(\u001b[0m\u001b[0mself\u001b[0m\u001b[0;34m,\u001b[0m \u001b[0mgradient\u001b[0m\u001b[0;34m,\u001b[0m \u001b[0mretain_graph\u001b[0m\u001b[0;34m,\u001b[0m \u001b[0mcreate_graph\u001b[0m\u001b[0;34m)\u001b[0m\u001b[0;34m\u001b[0m\u001b[0;34m\u001b[0m\u001b[0m\n\u001b[0m\u001b[1;32m    199\u001b[0m \u001b[0;34m\u001b[0m\u001b[0m\n\u001b[1;32m    200\u001b[0m     \u001b[0;32mdef\u001b[0m \u001b[0mregister_hook\u001b[0m\u001b[0;34m(\u001b[0m\u001b[0mself\u001b[0m\u001b[0;34m,\u001b[0m \u001b[0mhook\u001b[0m\u001b[0;34m)\u001b[0m\u001b[0;34m:\u001b[0m\u001b[0;34m\u001b[0m\u001b[0;34m\u001b[0m\u001b[0m\n",
      "\u001b[0;32m~/anaconda3/envs/cs224u/lib/python3.7/site-packages/torch/autograd/__init__.py\u001b[0m in \u001b[0;36mbackward\u001b[0;34m(tensors, grad_tensors, retain_graph, create_graph, grad_variables)\u001b[0m\n\u001b[1;32m     98\u001b[0m     Variable._execution_engine.run_backward(\n\u001b[1;32m     99\u001b[0m         \u001b[0mtensors\u001b[0m\u001b[0;34m,\u001b[0m \u001b[0mgrad_tensors\u001b[0m\u001b[0;34m,\u001b[0m \u001b[0mretain_graph\u001b[0m\u001b[0;34m,\u001b[0m \u001b[0mcreate_graph\u001b[0m\u001b[0;34m,\u001b[0m\u001b[0;34m\u001b[0m\u001b[0;34m\u001b[0m\u001b[0m\n\u001b[0;32m--> 100\u001b[0;31m         allow_unreachable=True)  # allow_unreachable flag\n\u001b[0m\u001b[1;32m    101\u001b[0m \u001b[0;34m\u001b[0m\u001b[0m\n\u001b[1;32m    102\u001b[0m \u001b[0;34m\u001b[0m\u001b[0m\n",
      "\u001b[0;31mKeyboardInterrupt\u001b[0m: "
     ]
    }
   ],
   "source": [
    "rnn_experiment = sst.experiment(\n",
    "    SST_HOME,\n",
    "    rnn_phi,\n",
    "    fit_rnn_classifier, \n",
    "    vectorize=False,  # For deep learning, use `vectorize=False`.\n",
    "    assess_reader=sst.dev_reader)"
   ]
  },
  {
   "cell_type": "markdown",
   "metadata": {},
   "source": [
    "## Error analysis\n",
    "\n",
    "This section begins to build an error-analysis framework using the dicts returned by `sst.experiment`. These have the following structure:\n",
    "\n",
    "```\n",
    "'model': trained model\n",
    "'train_dataset':\n",
    "   'X': feature matrix\n",
    "   'y': list of labels\n",
    "   'vectorizer': DictVectorizer,\n",
    "   'raw_examples': list of raw inputs, before featurizing   \n",
    "'assess_dataset': same structure as the value of 'train_dataset'\n",
    "'predictions': predictions on the assessment data\n",
    "'metric': `score_func.__name__`, where `score_func` is an `sst.experiment` argument\n",
    "'score': the `score_func` score on the assessment data\n",
    "```\n",
    "The following function just finds mistakes, and returns a `pd.DataFrame` for easy subsequent processing:"
   ]
  },
  {
   "cell_type": "code",
   "execution_count": 10,
   "metadata": {},
   "outputs": [],
   "source": [
    "def find_errors(experiment):\n",
    "    \"\"\"Find mistaken predictions.\n",
    "    \n",
    "    Parameters\n",
    "    ----------\n",
    "    experiment : dict\n",
    "        As returned by `sst.experiment`.\n",
    "        \n",
    "    Returns\n",
    "    -------\n",
    "    pd.DataFrame\n",
    "    \n",
    "    \"\"\"\n",
    "    raw_examples = experiment['assess_dataset']['raw_examples']\n",
    "    raw_examples = [\" \".join(tree.leaves()) for tree in raw_examples]\n",
    "    df = pd.DataFrame({\n",
    "        'raw_examples': raw_examples,\n",
    "        'predicted': experiment['predictions'],\n",
    "        'gold': experiment['assess_dataset']['y']})\n",
    "    df['correct'] = df['predicted'] == df['gold']\n",
    "    return df"
   ]
  },
  {
   "cell_type": "code",
   "execution_count": 90,
   "metadata": {},
   "outputs": [],
   "source": [
    "softmax_analysis = find_errors(softmax_experiment_op)"
   ]
  },
  {
   "cell_type": "code",
   "execution_count": 12,
   "metadata": {},
   "outputs": [
    {
     "ename": "NameError",
     "evalue": "name 'rnn_experiment' is not defined",
     "output_type": "error",
     "traceback": [
      "\u001b[0;31m---------------------------------------------------------------------------\u001b[0m",
      "\u001b[0;31mNameError\u001b[0m                                 Traceback (most recent call last)",
      "\u001b[0;32m<ipython-input-12-4f387f6264dc>\u001b[0m in \u001b[0;36m<module>\u001b[0;34m\u001b[0m\n\u001b[0;32m----> 1\u001b[0;31m \u001b[0mrnn_analysis\u001b[0m \u001b[0;34m=\u001b[0m \u001b[0mfind_errors\u001b[0m\u001b[0;34m(\u001b[0m\u001b[0mrnn_experiment\u001b[0m\u001b[0;34m)\u001b[0m\u001b[0;34m\u001b[0m\u001b[0;34m\u001b[0m\u001b[0m\n\u001b[0m",
      "\u001b[0;31mNameError\u001b[0m: name 'rnn_experiment' is not defined"
     ]
    }
   ],
   "source": [
    "rnn_analysis = find_errors(rnn_experiment)"
   ]
  },
  {
   "cell_type": "markdown",
   "metadata": {},
   "source": [
    "Here we merge the sotmax and RNN experiments into a single DataFrame:"
   ]
  },
  {
   "cell_type": "code",
   "execution_count": 24,
   "metadata": {},
   "outputs": [],
   "source": [
    "analysis = softmax_analysis.merge(\n",
    "    rnn_analysis, left_on='raw_examples', right_on='raw_examples')\n",
    "\n",
    "analysis = analysis.drop('gold_y', axis=1).rename(columns={'gold_x': 'gold'})"
   ]
  },
  {
   "cell_type": "markdown",
   "metadata": {},
   "source": [
    "The following code collects a specific subset of examples; small modifications to its structure will give you different interesting subsets:"
   ]
  },
  {
   "cell_type": "code",
   "execution_count": 25,
   "metadata": {},
   "outputs": [],
   "source": [
    "# Examples where the softmax model is correct, the RNN is not,\n",
    "# and the gold label is 'positive'\n",
    "\n",
    "error_group = analysis[\n",
    "    (analysis['predicted_x'] == analysis['gold'])\n",
    "    &\n",
    "    (analysis['predicted_y'] != analysis['gold'])    \n",
    "    &\n",
    "    (analysis['gold'] == 'positive')\n",
    "]"
   ]
  },
  {
   "cell_type": "code",
   "execution_count": 26,
   "metadata": {},
   "outputs": [
    {
     "data": {
      "text/plain": [
       "67"
      ]
     },
     "execution_count": 26,
     "metadata": {},
     "output_type": "execute_result"
    }
   ],
   "source": [
    "error_group.shape[0]"
   ]
  },
  {
   "cell_type": "code",
   "execution_count": 16,
   "metadata": {},
   "outputs": [
    {
     "name": "stdout",
     "output_type": "stream",
     "text": [
      "======================================================================\n",
      "An operatic , sprawling picture that 's entertainingly acted , magnificently shot and gripping enough to sustain most of its 170-minute length .\n",
      "======================================================================\n",
      "This is a good script , good dialogue , funny even for adults .\n",
      "======================================================================\n",
      "An intriguing cinematic omnibus and round-robin that occasionally is more interesting in concept than in execution .\n",
      "======================================================================\n",
      "A spellbinding African film about the modern condition of rootlessness , a state experienced by millions around the globe .\n",
      "======================================================================\n",
      "A woman 's pic directed with resonance by Ilya Chaiken .\n"
     ]
    }
   ],
   "source": [
    "for ex in error_group['raw_examples'].sample(5):\n",
    "    print(\"=\"*70)\n",
    "    print(ex)"
   ]
  },
  {
   "cell_type": "markdown",
   "metadata": {},
   "source": [
    "## Homework questions\n",
    "\n",
    "Please embed your homework responses in this notebook, and do not delete any cells from the notebook. (You are free to add as many cells as you like as part of your responses.)"
   ]
  },
  {
   "cell_type": "markdown",
   "metadata": {},
   "source": [
    "### Reproducing Socher et al.'s NaiveBayes baselines [2 points]\n",
    "\n",
    "[Socher et al.](https://www.aclweb.org/anthology/D13-1170/) compare against (among other models) a NaiveBayes baseline with bigram features. See how close you can come to reproducing the performance of that model on the binary, root-only problem (values in the rightmost column of their Table 1, rows 1 and 3).\n",
    "\n",
    "Specific tasks:\n",
    "\n",
    "1. Write a bigrams feature function called `bigrams_phi` on the model of `unigrams_phi`. The included function `test_bigrams_phi` should help verify that you've done this correctly.\n",
    "1. Write a function `fit_nb_classifier` that serves as a wrapper for `sklearn.naive_bayes.MultinomialNB`, which you can use with all its default arguments or change them as you see fit.\n",
    "1. Use `sst.experiment` to run the experiments, assessing against `sst.dev_reader`.\n",
    "\n",
    "Submit all the code you write for this, including any new import statements, and make sure your notebook embeds the output from running the code in step 3.\n",
    "\n",
    "__A note on performance__: in our experience, the bigrams Naive Bayes model gets around 0.75. It's fine to submit answers with comparable numbers; the Socher et al. baselines are very strong. We're not evaluating how good your model is; we want to see your code, and we're interested to see what the range of F1 scores is across the whole class."
   ]
  },
  {
   "cell_type": "code",
   "execution_count": 52,
   "metadata": {},
   "outputs": [],
   "source": [
    "import nltk\n",
    "import vsm\n",
    "from sklearn.naive_bayes import MultinomialNB\n",
    "##### YOUR CODE HERE\n",
    "def bigrams_phi(tree):\n",
    "    result =  Counter(nltk.bigrams(['<S>']+tree.leaves()+['</S>']))\n",
    "    \n",
    "    return result"
   ]
  },
  {
   "cell_type": "code",
   "execution_count": 53,
   "metadata": {
    "scrolled": true
   },
   "outputs": [
    {
     "name": "stdout",
     "output_type": "stream",
     "text": [
      "Counter({('<S>', 'NLU'): 1, ('NLU', 'is'): 1, ('is', 'amazing'): 1, ('amazing', '</S>'): 1})\n",
      "<class 'collections.Counter'>\n"
     ]
    }
   ],
   "source": [
    "def test_bigrams_phi(func):\n",
    "    \"\"\"`func` should be `bigrams_phi`.\"\"\"\n",
    "    tree = Tree.fromstring(\"\"\"(4 (2 NLU) (4 (2 is) (4 amazing)))\"\"\")\n",
    "    result = bigrams_phi(tree)\n",
    "    expected = {('<S>', 'NLU'): 1, \n",
    "                ('NLU', 'is'): 1, \n",
    "                ('is', 'amazing'): 1, \n",
    "                ('amazing', '</S>'): 1}\n",
    "    print(result)\n",
    "    print(type(result))\n",
    "    assert result == expected, \\\n",
    "        \"Expected {}\\nGot {}\".format(expected, result)\n",
    "    \n",
    "test_bigrams_phi(bigrams_phi)"
   ]
  },
  {
   "cell_type": "code",
   "execution_count": 57,
   "metadata": {},
   "outputs": [],
   "source": [
    "def fit_nb_classifier(X,y):\n",
    "       \n",
    "    # vocab = utils.create_pretrained_embedding(X, X,mincount=2)\n",
    "    mod = MultinomialNB()\n",
    "    \n",
    "    mod.fit(X,y)\n",
    "    return mod"
   ]
  },
  {
   "cell_type": "code",
   "execution_count": 91,
   "metadata": {},
   "outputs": [
    {
     "name": "stdout",
     "output_type": "stream",
     "text": [
      "              precision    recall  f1-score   support\n",
      "\n",
      "    negative      0.600     0.678     0.637       428\n",
      "     neutral      0.350     0.031     0.056       229\n",
      "    positive      0.592     0.797     0.679       444\n",
      "\n",
      "    accuracy                          0.591      1101\n",
      "   macro avg      0.514     0.502     0.457      1101\n",
      "weighted avg      0.545     0.591     0.533      1101\n",
      "\n"
     ]
    }
   ],
   "source": [
    "nb_experiment = sst.experiment(\n",
    "    SST_HOME,\n",
    "    bigrams_phi,                      # Free to write your own!\n",
    "    fit_nb_classifier,                  # Free to write your own!\n",
    "    train_reader=sst.train_reader,     # Fixed by the competition.\n",
    "    assess_reader=sst.dev_reader,      # Fixed until the bake-off.\n",
    "    )\n"
   ]
  },
  {
   "cell_type": "markdown",
   "metadata": {},
   "source": [
    "### Sentiment words alone [2 points]\n",
    "\n",
    "NLTK includes an easy interface to [Minqing Hu and Bing Liu's __Opinion Lexicon__](https://www.cs.uic.edu/~liub/FBS/sentiment-analysis.html), which consists of a list of positive words and a list of negative words. How much of the ternary SST story does this lexicon tell?\n",
    "\n",
    "For this problem, submit code to do the following:\n",
    "\n",
    "1. Create a feature function `op_unigrams` on the model of `unigrams_phi` above, but filtering the vocabulary to just items that are members of the Opinion Lexicon. Submit this feature function.\n",
    "\n",
    "1. Evaluate your feature function with `sst.experiment`, with all the same parameters as were used to create `softmax_experiment` in [A softmax baseline](#A-softmax-baseline) above, except of course for the feature function.\n",
    "\n",
    "1. Use `utils.mcnemar` to compare your feature function with the results in `softmax_experiment`. The information you need for this is in `softmax_experiment` and your own `sst.experiment` results. Submit your evaluation code. You can assume `softmax_experiment` is already in memory, but your code should create the other objects necessary for this comparison."
   ]
  },
  {
   "cell_type": "code",
   "execution_count": 84,
   "metadata": {},
   "outputs": [],
   "source": [
    "from nltk.corpus import opinion_lexicon\n",
    "\n",
    "# Use set for fast membership checking:\n",
    "positive = set(opinion_lexicon.positive())\n",
    "negative = set(opinion_lexicon.negative())\n",
    "\n",
    "##### YOUR CODE HERE\n"
   ]
  },
  {
   "cell_type": "code",
   "execution_count": 85,
   "metadata": {},
   "outputs": [],
   "source": [
    "def op_unigrams(tree):\n",
    "    \n",
    "    return Counter([X for X in tree.leaves() if X in positive or X in negative ])\n"
   ]
  },
  {
   "cell_type": "code",
   "execution_count": 86,
   "metadata": {
    "collapsed": true
   },
   "outputs": [
    {
     "name": "stdout",
     "output_type": "stream",
     "text": [
      "<class 'numpy.ndarray'>\n",
      "              precision    recall  f1-score   support\n",
      "\n",
      "    negative      0.553     0.752     0.638       428\n",
      "     neutral      0.179     0.031     0.052       229\n",
      "    positive      0.615     0.664     0.639       444\n",
      "\n",
      "    accuracy                          0.567      1101\n",
      "   macro avg      0.449     0.482     0.443      1101\n",
      "weighted avg      0.500     0.567     0.516      1101\n",
      "\n"
     ]
    }
   ],
   "source": [
    "softmax_experiment_op = sst.experiment(\n",
    "    SST_HOME,\n",
    "    op_unigrams,                      # Free to write your own!\n",
    "    fit_softmax_classifier,            # Free to write your own!\n",
    "    train_reader=sst.train_reader,     # Fixed by the competition.\n",
    "    assess_reader=sst.dev_reader,      # Fixed until the bake-off.\n",
    "    \n",
    "    class_func=sst.ternary_class_func) # Fixed by the bake-off rules."
   ]
  },
  {
   "cell_type": "code",
   "execution_count": 98,
   "metadata": {},
   "outputs": [
    {
     "name": "stdout",
     "output_type": "stream",
     "text": [
      "0.00019441281112406603\n",
      "13.884328358208956\n"
     ]
    }
   ],
   "source": [
    "stat,pval = utils.mcnemar(softmax_experiment['train_dataset']['y'],\n",
    "                          softmax_experiment['predictions'],\n",
    "                          softmax_experiment_op['predictions'])\n",
    "print(pval)\n",
    "print(stat)\n"
   ]
  },
  {
   "cell_type": "markdown",
   "metadata": {},
   "source": [
    "### A more powerful vector-summing baseline [2 points]\n",
    "\n",
    "In [Distributed representations as features](sst_03_neural_networks.ipynb#Distributed-representations-as-features), we looked at a baseline for the ternary SST problem in which each example is modeled as the sum of its 50-dimensional GloVe representations. A `LogisticRegression` model was used for prediction. A neural network might do better with these representations, since there might be complex relationships between the input feature dimensions that a linear classifier can't learn. \n",
    "\n",
    "To address this question, rerun the experiment with `TorchShallowNeuralClassifier` as the classifier. Specs:\n",
    "* Use `sst.experiment` to conduct the experiment. \n",
    "* Using 3-fold cross-validation, exhaustively explore this set of hyperparameter combinations:\n",
    "  * The hidden dimensionality at 50, 100, and 200.\n",
    "  * The hidden activation function as `nn.Tanh` or `nn.ReLU`.\n",
    "* (For all other parameters to `TorchShallowNeuralClassifier`, use the defaults.)\n",
    "\n",
    "For this problem, submit code to do the following:\n",
    "\n",
    "1. Your model wrapper function around `TorchShallowNeuralClassifier`. This function should implement the requisite cross-validation; see [this notebook section](sst_02_hand_built_features.ipynb#Hyperparameter-search) for examples.\n",
    "1. The classification report as printed by `sst.experiment`. (This will print out when you run `sst.experiment`. That print-out suffices.)\n",
    "2. The optimal hyperparameters chosen in your experiment. (This too will print out when you run `sst.experiment`. The print-out again suffices.)\n",
    "\n",
    "We're not evaluating the quality of your model. (We've specified the protocols completely, but there will still be variation in the results.) However, the primary goal of this question is to get you thinking more about this strikingly good baseline feature representation scheme for SST, so we're sort of hoping you feel compelled to try out variations on your own."
   ]
  },
  {
   "cell_type": "code",
   "execution_count": 109,
   "metadata": {},
   "outputs": [],
   "source": [
    "##### YOUR CODE HERE\n",
    "from torch_shallow_neural_classifier import TorchShallowNeuralClassifier \n",
    "import torch.nn as nn\n",
    "def torch_classifier_with_cv(X,y):\n",
    "    \n",
    "    basemod = TorchShallowNeuralClassifier()\n",
    "    cv = 3\n",
    "    param_grid = {'hidden_dim':[50,100,200],\n",
    "                'hidden_activation':[nn.Tanh(),nn.ReLU()]\n",
    "                 }\n",
    "    best_mod = utils.fit_classifier_with_crossvalidation(X,y,basemod,cv,param_grid)\n",
    "    return best_mod\n",
    "\n"
   ]
  },
  {
   "cell_type": "code",
   "execution_count": 110,
   "metadata": {},
   "outputs": [
    {
     "name": "stderr",
     "output_type": "stream",
     "text": [
      "Finished epoch 100 of 100; error is 0.00034809723729267716"
     ]
    },
    {
     "name": "stdout",
     "output_type": "stream",
     "text": [
      "Best params: {'hidden_activation': ReLU(), 'hidden_dim': 50}\n",
      "Best score: 0.404\n",
      "              precision    recall  f1-score   support\n",
      "\n",
      "    negative      0.599     0.596     0.597       428\n",
      "     neutral      0.255     0.205     0.228       229\n",
      "    positive      0.627     0.694     0.659       444\n",
      "\n",
      "    accuracy                          0.554      1101\n",
      "   macro avg      0.494     0.498     0.495      1101\n",
      "weighted avg      0.539     0.554     0.545      1101\n",
      "\n"
     ]
    }
   ],
   "source": [
    "_ =  sst.experiment(\n",
    "    SST_HOME,\n",
    "    unigrams_phi,                      # Free to write your own!\n",
    "    torch_classifier_with_cv,            # Free to write your own!\n",
    "    train_reader=sst.train_reader,     # Fixed by the competition.\n",
    "    assess_reader=sst.dev_reader,      # Fixed until the bake-off.\n",
    "    class_func=sst.ternary_class_func) # Fixed by the bake-off rules."
   ]
  },
  {
   "cell_type": "markdown",
   "metadata": {},
   "source": [
    "### Your original system [3 points]\n",
    "\n",
    "Your task is to develop an original model for the SST ternary problem, using only the root-level labels (again, __you cannot make any use of the subtree labels__). There are many options. If you spend more than a few hours on this homework problem, you should consider letting it grow into your final project! Here are some relatively manageable ideas that you might try:\n",
    "\n",
    "1. We didn't systematically evaluate the `bidirectional` option to the `TorchRNNClassifier`. Similarly, that model could be tweaked to allow multiple LSTM layers (at present there is only one), and you could try adding layers to the classifier portion of the model as well.\n",
    "\n",
    "1. We've already glimpsed the power of rich initial word representations, and later in the course we'll see that smart initialization usually leads to a performance gain in NLP, so you could perhaps achieve a winning entry with a simple model that starts in a great place.\n",
    "\n",
    "1. The [practical introduction to contextual word representations](contextualreps.ipynb) (to be discussed later in the quarter) covers pretrained representations and interfaces that are likely to boost the performance of any system.\n",
    "\n",
    "1. The `TreeNN` and `TorchTreeNN` don't perform all that well, and this could be for the same reason that RNNs don't peform well: the gradient signal doesn't propagate reliably down inside very deep trees. [Tai et al. 2015](https://aclanthology.info/papers/P15-1150/p15-1150) sought to address this with TreeLSTMs, which are fairly easy to implement in PyTorch.\n",
    "\n",
    "1. In the [distributed representations as features](#Distributed-representations-as-features) section, we just summed  all of the leaf-node GloVe vectors to obtain a fixed-dimensional representation for all sentences. This ignores all of the tree structure. See if you can do better by paying attention to the binary tree structure: write a function `glove_subtree_phi` that obtains a vector representation for each subtree by combining the vectors of its daughters, with the leaf nodes again given by GloVe (any dimension you like) and the full representation of the sentence given by the final vector obtained by this recursive process. You can decide on how you combine the vectors. \n",
    "\n",
    "1. If you have a lot of computing resources, then you can fire off a large hyperparameter search over many parameter values. All the model classes for this course are compatible with the `scikit-learn` and [scikit-optimize](https://scikit-optimize.github.io) methods, because they define the required functions for getting and setting parameters.\n",
    "\n",
    "We want to emphasize that this needs to be an __original__ system. It doesn't suffice to download code from the Web, retrain, and submit. You can build on others' code, but you have to do something new and meaningful with it.\n",
    "\n",
    "In the cell below, please provide a brief technical description of your original system, so that the teaching team can gain an understanding of what it does. This will help us to understand your code and analyze all the submissions to identify patterns and strategies."
   ]
  },
  {
   "cell_type": "code",
   "execution_count": 21,
   "metadata": {},
   "outputs": [],
   "source": [
    "# Enter your system description in this cell.\n",
    "# Please do not remove this comment.\n",
    "\n"
   ]
  },
  {
   "cell_type": "markdown",
   "metadata": {},
   "source": [
    "## Bake-off [1 point]\n",
    "\n",
    "As we said above, the bake-off evaluation data is the official SST test-set release. For this bake-off, you'll evaluate your original system from the above homework problem on the test set, using the ternary class problem. Rules:\n",
    "\n",
    "1. Only one evaluation is permitted.\n",
    "1. No additional system tuning is permitted once the bake-off has started.\n",
    "1. As noted above, __you cannot make any use of the subtree labels__.\n",
    "\n",
    "The cells below this one constitute your bake-off entry.\n",
    "\n",
    "Systems that enter will receive the additional homework point, and systems that achieve the top score will receive an additional 0.5 points. We will test the top-performing systems ourselves, and only systems for which we can reproduce the reported results will win the extra 0.5 points.\n",
    "\n",
    "Late entries will be accepted, but they cannot earn the extra 0.5 points. Similarly, you cannot win the bake-off unless your homework is submitted on time.\n",
    "\n",
    "The announcement will include the details on where to submit your entry."
   ]
  },
  {
   "cell_type": "code",
   "execution_count": 22,
   "metadata": {},
   "outputs": [],
   "source": [
    "# Enter your bake-off assessment code in this cell. \n",
    "# Please do not remove this comment.\n",
    "\n",
    "##### YOUR CODE HERE\n",
    "\n",
    "\n"
   ]
  },
  {
   "cell_type": "code",
   "execution_count": 23,
   "metadata": {},
   "outputs": [],
   "source": [
    "# On an otherwise blank line in this cell, please enter\n",
    "# your macro-average F1 value as reported by the code above. \n",
    "# Please enter only a number between 0 and 1 inclusive.\n",
    "# Please do not remove this comment.\n",
    "\n"
   ]
  }
 ],
 "metadata": {
  "kernelspec": {
   "display_name": "Python 3",
   "language": "python",
   "name": "python3"
  },
  "language_info": {
   "codemirror_mode": {
    "name": "ipython",
    "version": 3
   },
   "file_extension": ".py",
   "mimetype": "text/x-python",
   "name": "python",
   "nbconvert_exporter": "python",
   "pygments_lexer": "ipython3",
   "version": "3.7.7"
  },
  "widgets": {
   "state": {},
   "version": "1.1.2"
  }
 },
 "nbformat": 4,
 "nbformat_minor": 2
}
